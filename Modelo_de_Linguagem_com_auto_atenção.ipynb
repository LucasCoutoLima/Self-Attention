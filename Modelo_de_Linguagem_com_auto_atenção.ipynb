{
  "cells": [
    {
      "cell_type": "markdown",
      "metadata": {
        "id": "fMI0JT_YuYF3"
      },
      "source": [
        "## Exercício: Modelo de Linguagem com auto-atenção\n",
        "\n",
        "Este exercício é similar ao da aula passada, mas iremos agora treinar uma rede neural *com auto-atenção* para prever a próxima palavra de um texto, data as palavras anteriores como entrada.\n",
        "\n",
        "![image.png](data:image/png;base64,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)\n",
        "\n",
        "Na camada de auto-atenção, deve-se implementar (vide slide 41):\n",
        "- Embeddings de posição\n",
        "- Projeções lineares (WQ, WK, WV, WO)\n",
        "- Camada de feed forward (2-layer MLP)\n",
        "\n",
        "\n",
        "\n",
        "Instrucões:\n",
        "- É necessário fazer duas implementações da camada de auto-atenção: uma usando laços (ineficiente, mas fácil de entender) e outra matricial (eficiente mas difícil de entender). Usar slide 41 como referência.\n",
        "\n",
        "- Fazer um assert para garantir que o resultado das duas implementações é exatamente igual.\n",
        "\n",
        "- No treinamento, usar apenas a implementação matricial."
      ]
    },
    {
      "cell_type": "markdown",
      "metadata": {
        "id": "bYbkEzdD37sZ"
      },
      "source": [
        "## Faz download e carrega o dataset"
      ]
    },
    {
      "cell_type": "code",
      "source": [
        "!git clone https://github.com/ethelbeluzzi/projetomachado"
      ],
      "metadata": {
        "id": "qP6lAMiNkGou",
        "colab": {
          "base_uri": "https://localhost:8080/"
        },
        "outputId": "93ef5825-af4a-4e86-f9fc-0db261c9062e"
      },
      "execution_count": null,
      "outputs": [
        {
          "output_type": "stream",
          "name": "stdout",
          "text": [
            "Cloning into 'projetomachado'...\n",
            "remote: Enumerating objects: 65, done.\u001b[K\n",
            "remote: Counting objects: 100% (65/65), done.\u001b[K\n",
            "remote: Compressing objects: 100% (61/61), done.\u001b[K\n",
            "remote: Total 65 (delta 24), reused 0 (delta 0), pack-reused 0 (from 0)\u001b[K\n",
            "Receiving objects: 100% (65/65), 7.21 MiB | 3.80 MiB/s, done.\n",
            "Resolving deltas: 100% (24/24), done.\n"
          ]
        }
      ]
    },
    {
      "cell_type": "code",
      "source": [
        "import os\n",
        "# >>> Análise varia dependendo do formato que os dados são fornecidos <<<\n",
        "\n",
        "DATA_PATH = os.path.join(\"projetomachado\", \"textonormalizado1000.txt\")\n",
        "\n",
        "# Abrir arquito textual e ler os dados originais\n",
        "with open(DATA_PATH, \"r\") as data_file:\n",
        "    data_text = data_file.read()\n",
        "\n",
        "# Número total de caracteres no dataset\n",
        "len(data_text)"
      ],
      "metadata": {
        "id": "skzZnQbkkeeC",
        "colab": {
          "base_uri": "https://localhost:8080/"
        },
        "outputId": "933fe2dc-ebcb-4401-e501-fc1cb27e7f2f"
      },
      "execution_count": null,
      "outputs": [
        {
          "output_type": "execute_result",
          "data": {
            "text/plain": [
              "18845445"
            ]
          },
          "metadata": {},
          "execution_count": 3
        }
      ]
    },
    {
      "cell_type": "code",
      "source": [
        "# Limpar texto: remover espaços desnecessários, substituir reticências\n",
        "cleaned_text = data_text.replace(\"...\", \"*\").replace('\\n', ' ').strip().lower() # Substituição de ... por * para não gerar 3 pontos individuais.\n",
        "\n",
        "cleaned_text[:1000]"
      ],
      "metadata": {
        "colab": {
          "base_uri": "https://localhost:8080/",
          "height": 109
        },
        "id": "nmRGT8f-7d7L",
        "outputId": "59d66049-109e-4f23-c9d5-34a8c2e1db1d"
      },
      "execution_count": null,
      "outputs": [
        {
          "output_type": "execute_result",
          "data": {
            "text/plain": [
              "'1 ministério da cultura fundação biblioteca nacional departamento nacional do livro a mão e a luva machado de assis i o fim da carta mas que pretendes fazer agora? morrer. morrer? que idéia! deixate disso, estêvão. não se morre por tão pouco* morrese. quem não padece estas dores não as pode avaliar. o golpe foi profundo, e o meu coração é pusilânime; por mais aborrecível que pareça a idéia da morte, pior, muito pior do que ela, é a de viver. ah! tu não sabes o que isto é? sei: um namoro gorado* luís! * e se em cada caso de namoro gorado morresse um homem, tinha já diminuído muito o gênero humano, e malthus perderia o latim. anda, sobe. estêvão meteu a mão nos cabelos com um gesto de angústia; luís alves sacudiu a cabeça e sorriu. achavamse os dois no corredor da casa de luís alves, à rua da constituição,  que então se chamava dos ciganos;  então, isto é, em 1853, uma bagatela de vinte anos que lá vão, levando talvez consigo as ilusões do leitor, e deixandolhe em troca usurários! uma tr'"
            ],
            "application/vnd.google.colaboratory.intrinsic+json": {
              "type": "string"
            }
          },
          "metadata": {},
          "execution_count": 4
        }
      ]
    },
    {
      "cell_type": "code",
      "source": [
        "from collections import Counter\n",
        "import re\n",
        "# Contar número de palavras ÚNICAS\n",
        "def count_words(text):\n",
        "    # Counter: collection especifica do Python para contar ocorrências de um objeto\n",
        "    word_counts = Counter()\n",
        "    word_counts.update(re.findall(r'\\w+|[.,!?:;*]', text)) # * representa ...\n",
        "\n",
        "    return word_counts\n",
        "\n",
        "word_counts = count_words(cleaned_text)"
      ],
      "metadata": {
        "id": "Yc2eOhQ9Objj"
      },
      "execution_count": null,
      "outputs": []
    },
    {
      "cell_type": "code",
      "source": [
        "word_counts['*']"
      ],
      "metadata": {
        "colab": {
          "base_uri": "https://localhost:8080/"
        },
        "id": "nb8E0BYE5Sbk",
        "outputId": "9ba827e9-bcf3-4768-89e2-a95e981992dc"
      },
      "execution_count": null,
      "outputs": [
        {
          "output_type": "execute_result",
          "data": {
            "text/plain": [
              "15245"
            ]
          },
          "metadata": {},
          "execution_count": 6
        }
      ]
    },
    {
      "cell_type": "markdown",
      "metadata": {
        "id": "EyGVDL9KzJ_I"
      },
      "source": [
        "## Criando um vocabulário"
      ]
    },
    {
      "cell_type": "code",
      "execution_count": null,
      "metadata": {
        "id": "FiP7OCo9zJ_I",
        "colab": {
          "base_uri": "https://localhost:8080/"
        },
        "outputId": "bb398cad-de20-4e5d-95ce-859f5b630fc6"
      },
      "outputs": [
        {
          "output_type": "execute_result",
          "data": {
            "text/plain": [
              "[',', '.', 'a', 'que', 'de']"
            ]
          },
          "metadata": {},
          "execution_count": 7
        }
      ],
      "source": [
        "vocab_size = 2000\n",
        "most_frequent_words = [word for word, count in word_counts.most_common(vocab_size)]\n",
        "vocab = {word: i for i, word in enumerate(most_frequent_words, 1)}\n",
        "most_frequent_words[:5]"
      ]
    },
    {
      "cell_type": "code",
      "source": [
        "# Separar o texto completo em treino e validação\n",
        "# limit = int(0.8 * len(cleaned_text))\n",
        "# train_text = cleaned_text[:limit]\n",
        "# val_text = cleaned_text[limit:]"
      ],
      "metadata": {
        "id": "2GrY5toR9I76"
      },
      "execution_count": null,
      "outputs": []
    },
    {
      "cell_type": "markdown",
      "source": [
        "# Tokenização"
      ],
      "metadata": {
        "id": "c_1oAUyp9p0q"
      }
    },
    {
      "cell_type": "code",
      "source": [
        "import random\n",
        "def encode_sentence(sentence, vocab):\n",
        "    # Usa regex para separar palavras (sequências alfanuméricas e pontuação)\n",
        "    return [vocab.get(word, 0) for word in re.findall(r'\\w+|[.,!?:;*]', sentence.strip().lower())]\n",
        "\n",
        "# Exemplo de tokenização\n",
        "random_start = random.randint(0, len(cleaned_text) - 100)  # Escolhe um ponto aleatório no texto completo\n",
        "random_sentence = cleaned_text[random_start:random_start + 100]  # Extrai uma sequência de 100 caracteres a partir desse ponto\n",
        "encoded_sentence = encode_sentence(random_sentence, vocab)\n",
        "\n",
        "print(f\"{random_sentence}\\n{encoded_sentence}\")"
      ],
      "metadata": {
        "colab": {
          "base_uri": "https://localhost:8080/"
        },
        "id": "GdAFilQt9sFU",
        "outputId": "38254e7e-a5a5-4a93-d2af-52c9cb8484ff"
      },
      "execution_count": null,
      "outputs": [
        {
          "output_type": "stream",
          "name": "stdout",
          "text": [
            "cartucho de pralinas constitucionais, abarrotouse, e nem por isso teve indigestão, ao contrário, dig\n",
            "[0, 5, 0, 0, 1, 0, 1, 6, 42, 25, 96, 284, 0, 1, 24, 421, 1, 0]\n"
          ]
        }
      ]
    },
    {
      "cell_type": "code",
      "source": [
        "def decode_sentence(indices, idx_to_word):\n",
        "    # Converte uma lista de índices para suas palavras correspondentes\n",
        "    return ' '.join([idx_to_word.get(idx, '<UNK>') for idx in indices])\n",
        "\n",
        "# Exemplo de uso:\n",
        "# Suponha que generated_indices seja a lista de índices gerada pelo seu modelo\n",
        "generated_indices = [3, 7, 12, 15, 2, 10, 0]  # Exemplo de índices\n",
        "\n",
        "# O dicionário idx_to_word mapeia os índices para palavras\n",
        "idx_to_word = {idx: word for word, idx in vocab.items()}\n",
        "\n",
        "# Decodificar a sequência de índices para texto\n",
        "decoded_text = decode_sentence(generated_indices, idx_to_word)\n",
        "\n",
        "print(f\"{generated_indices}\\n{decoded_text}\")"
      ],
      "metadata": {
        "colab": {
          "base_uri": "https://localhost:8080/"
        },
        "id": "x_4kJgShAaDP",
        "outputId": "c19071a9-a26d-487b-c023-bc8e5d8c8de3"
      },
      "execution_count": null,
      "outputs": [
        {
          "output_type": "stream",
          "name": "stdout",
          "text": [
            "[3, 7, 12, 15, 2, 10, 0]\n",
            "a o da com . um <UNK>\n"
          ]
        }
      ]
    },
    {
      "cell_type": "markdown",
      "metadata": {
        "id": "wia_ygbvzJ_J"
      },
      "source": [
        "## Classe do dataset"
      ]
    },
    {
      "cell_type": "code",
      "source": [
        "from torch.utils.data import Dataset\n",
        "\n",
        "context_size = 5 # 5 palavras de entrada. O target é a próxima palavra\n",
        "\"\"\"TODO: Preparar o dataset\"\"\"\n",
        "class TextDataset(Dataset):\n",
        "    \"\"\"\n",
        "    Dataset para a tarefa de modelagem de linguagem com pares (contexto, target).\n",
        "\n",
        "    Args:\n",
        "        text (str): Texto completo a ser usado para gerar os pares.\n",
        "        vocab (dict): Dicionário de vocabulário, mapeando palavras para índices.\n",
        "        context_size (int): Tamanho do contexto (número de palavras).\n",
        "\n",
        "    Attributes:\n",
        "        pairs (list): Lista de pares (contexto, target) onde contexto é uma lista de índices e target é um índice.\n",
        "    \"\"\"\n",
        "\n",
        "    def __init__(self, text, vocab, context_size):\n",
        "        self.pairs = self.create_context_target_pairs(text, vocab, context_size)\n",
        "\n",
        "    def create_context_target_pairs(self, text, vocab, context_size):\n",
        "        context_target_pairs = []\n",
        "\n",
        "        # Tokenizar o texto completo\n",
        "        tokens = encode_sentence(text, vocab)\n",
        "\n",
        "        # Gerar pares (contexto, target) ignorando targets desconhecidos\n",
        "        for i in range(len(tokens) - context_size):\n",
        "            context = tokens[i:i + context_size]\n",
        "            target = tokens[i + context_size]\n",
        "\n",
        "            # Adiciona o par apenas se o target não for unknown (0)\n",
        "            if target != 0:\n",
        "                context_target_pairs.append((context, target))\n",
        "\n",
        "        return context_target_pairs\n",
        "\n",
        "    def __len__(self):\n",
        "        return len(self.pairs)\n",
        "\n",
        "    def __getitem__(self, idx):\n",
        "        context, target = self.pairs[idx]\n",
        "        return torch.tensor(context, dtype=torch.long), torch.tensor(target, dtype=torch.long)"
      ],
      "metadata": {
        "id": "Iy-elI1magRR"
      },
      "execution_count": null,
      "outputs": []
    },
    {
      "cell_type": "code",
      "source": [
        "\"\"\"TODO: divida o dataset em validação/treino com um proporção de 20/80 %. OBS, use random_state=18\"\"\"\n",
        "from sklearn.model_selection import train_test_split\n",
        "# Dividir as linhas limpas em treino e validação (80/20)\n",
        "\n",
        "# Função para dividir o texto em palavras\n",
        "def split_text_into_words(text):\n",
        "    return re.findall(r'\\w+|[.,!?:;*]', text.lower())\n",
        "\n",
        "# Função para juntar palavras em texto\n",
        "def join_words_to_text(words):\n",
        "    return ' '.join(words)\n",
        "\n",
        "# Dividir o texto em palavras\n",
        "words = split_text_into_words(cleaned_text)\n",
        "\n",
        "# Dividir as palavras em treino e validação (80/20)\n",
        "train_words, val_words = train_test_split(words, test_size=0.2, random_state=18, shuffle=False)\n",
        "\n",
        "# Juntar as palavras de volta em texto para treino e validação\n",
        "train_cleaned_text = join_words_to_text(train_words)\n",
        "val_cleaned_text = join_words_to_text(val_words)"
      ],
      "metadata": {
        "id": "y1aetOpmDeQd"
      },
      "execution_count": null,
      "outputs": []
    },
    {
      "cell_type": "code",
      "execution_count": null,
      "metadata": {
        "id": "aD1CVci2zJ_J"
      },
      "outputs": [],
      "source": [
        "\"\"\"TODO: implemente a classe do dataset\"\"\"\n",
        "import torch\n",
        "\n",
        "train_data = TextDataset(train_cleaned_text, vocab, context_size)\n",
        "val_data = TextDataset(val_cleaned_text, vocab, context_size)"
      ]
    },
    {
      "cell_type": "code",
      "source": [
        "# Exemplo de acesso a um item do dataset\n",
        "for i in range(3):\n",
        "  sample_context, sample_target = train_data[i]\n",
        "  print(f\"Contexto: {sample_context}, Target: {sample_target}\")\n",
        "\n",
        "for i in train_words[:15]:\n",
        "  print(encode_sentence(i, vocab), end=' ')\n",
        "print()"
      ],
      "metadata": {
        "colab": {
          "base_uri": "https://localhost:8080/"
        },
        "id": "ncMTk98LahnK",
        "outputId": "5c03d85e-9499-4c37-cbce-aaa5e6cb51ab"
      },
      "execution_count": null,
      "outputs": [
        {
          "output_type": "stream",
          "name": "stdout",
          "text": [
            "Contexto: tensor([1369, 1376,   12,    0,    0]), Target: 1631\n",
            "Contexto: tensor([1376,   12,    0,    0, 1631]), Target: 1490\n",
            "Contexto: tensor([   0,    0, 1631, 1490,    0]), Target: 1490\n",
            "[1369] [1376] [12] [0] [0] [1631] [1490] [0] [1490] [11] [243] [3] [136] [6] [3] \n"
          ]
        }
      ]
    },
    {
      "cell_type": "code",
      "source": [
        "print(len(train_words))\n",
        "print(len(val_words))\n",
        "print(len(train_data))\n",
        "print(len(val_data))"
      ],
      "metadata": {
        "colab": {
          "base_uri": "https://localhost:8080/"
        },
        "id": "oRhlHRS9b_r8",
        "outputId": "efbfa42d-6790-4fce-ffad-45c2cc8bb23d"
      },
      "execution_count": null,
      "outputs": [
        {
          "output_type": "stream",
          "name": "stdout",
          "text": [
            "3137239\n",
            "784310\n",
            "2560297\n",
            "643198\n"
          ]
        }
      ]
    },
    {
      "cell_type": "code",
      "source": [
        "# Função para validar se nenhum par contém o token 0 (token desconhecido)\n",
        "def validate_no_unknown_tokens(dataset):\n",
        "    for i in range(len(dataset)):\n",
        "        context, target = dataset[i]\n",
        "        assert target != 0, f\"Target contém token desconhecido (0) no índice {i}: {target}\"\n",
        "\n",
        "# Validando o dataset de treino e validação\n",
        "validate_no_unknown_tokens(train_data)\n",
        "validate_no_unknown_tokens(val_data)\n",
        "\n",
        "print(\"Todos os targets estão livres de tokens desconhecidos (0).\")"
      ],
      "metadata": {
        "colab": {
          "base_uri": "https://localhost:8080/"
        },
        "id": "NWEHKuSRcpQk",
        "outputId": "0639132b-6379-46bc-e6e7-58c43e8a5c0c"
      },
      "execution_count": null,
      "outputs": [
        {
          "output_type": "stream",
          "name": "stdout",
          "text": [
            "Todos os targets estão livres de tokens desconhecidos (0).\n"
          ]
        }
      ]
    },
    {
      "cell_type": "code",
      "execution_count": null,
      "metadata": {
        "id": "gC0C5qn2zJ_J"
      },
      "outputs": [],
      "source": [
        "from torch.utils.data import DataLoader\n",
        "\n",
        "batch_size = 32\n",
        "train_loader = DataLoader(train_data, batch_size=batch_size, shuffle=True)\n",
        "val_loader = DataLoader(val_data, batch_size=batch_size, shuffle=True)\n",
        "sample = next(iter(train_loader))"
      ]
    },
    {
      "cell_type": "code",
      "source": [
        "context_batch, target_batch = sample\n",
        "\n",
        "print(f\"Dimensões do contexto no lote: {context_batch.shape}\")\n",
        "print(f\"Dimensões do alvo no lote: {target_batch.shape}\")\n",
        "sample[0][0], sample[1][0]"
      ],
      "metadata": {
        "colab": {
          "base_uri": "https://localhost:8080/"
        },
        "id": "9A3vOFmUeyL0",
        "outputId": "f7a7a696-0faf-463c-ca6c-665f98c4e0f5"
      },
      "execution_count": null,
      "outputs": [
        {
          "output_type": "stream",
          "name": "stdout",
          "text": [
            "Dimensões do contexto no lote: torch.Size([32, 5])\n",
            "Dimensões do alvo no lote: torch.Size([32])\n"
          ]
        },
        {
          "output_type": "execute_result",
          "data": {
            "text/plain": [
              "(tensor([  2,   0,  22, 333,   0]), tensor(6))"
            ]
          },
          "metadata": {},
          "execution_count": 18
        }
      ]
    },
    {
      "cell_type": "markdown",
      "metadata": {
        "id": "-5_-Yud0zJ_K"
      },
      "source": [
        "## Model"
      ]
    },
    {
      "cell_type": "code",
      "source": [
        "import torch.nn as nn\n",
        "import torch.nn.functional as F\n",
        "import math\n",
        "\n",
        "class PositionalEncoding(nn.Module):\n",
        "    \"Implement the PE function.\"\n",
        "\n",
        "    def __init__(self, d_model, max_len=5000):\n",
        "        super(PositionalEncoding, self).__init__()\n",
        "\n",
        "        # Compute the positional encodings once in log space.\n",
        "        pe = torch.zeros(max_len, d_model)\n",
        "        position = torch.arange(0, max_len).unsqueeze(1)\n",
        "        div_term = torch.exp(\n",
        "            torch.arange(0, d_model, 2) * -(math.log(10000.0) / d_model)\n",
        "        )\n",
        "        pe[:, 0::2] = torch.sin(position * div_term)\n",
        "        pe[:, 1::2] = torch.cos(position * div_term)\n",
        "        pe = pe.unsqueeze(0)\n",
        "        self.register_buffer(\"pe\", pe)\n",
        "\n",
        "    def forward(self, x):\n",
        "        x = x + self.pe[:, : x.size(1)].requires_grad_(False)\n",
        "        return x\n",
        "\n",
        "class LanguageModel(nn.Module):\n",
        "    def __init__(self, vocab_size, embed_dim, ff_hidden_dim, context_size):\n",
        "        super(LanguageModel, self).__init__()\n",
        "\n",
        "        self.embed_dim = embed_dim\n",
        "        self.context_size = context_size\n",
        "        self.embedding = nn.Embedding(vocab_size+1, embed_dim)\n",
        "        self.positional_encoding = PositionalEncoding(embed_dim, max_len=context_size)\n",
        "\n",
        "        # Inicializar as camadas de projeção\n",
        "        self.wq = nn.Linear(embed_dim, embed_dim, bias=False)\n",
        "        self.wk = nn.Linear(embed_dim, embed_dim, bias=False)\n",
        "        self.wv = nn.Linear(embed_dim, embed_dim, bias=False)\n",
        "        self.wo = nn.Linear(embed_dim, embed_dim, bias=False)\n",
        "\n",
        "        # Camada feed-forward (2-layer MLP)\n",
        "        self.feed_forward = nn.Sequential(\n",
        "            nn.Linear(context_size*embed_dim, ff_hidden_dim),\n",
        "            nn.ReLU(),\n",
        "            nn.Linear(ff_hidden_dim, vocab_size+1)\n",
        "        )\n",
        "\n",
        "\n",
        "\n",
        "    def attention_loop(self, X):\n",
        "        batch_size, L, dk = X.size()\n",
        "        E = []\n",
        "\n",
        "        for i in range(L):\n",
        "            xq = X[:, i, :]  # shape: (batch_size, embed_dim)\n",
        "            q = self.wq(xq).unsqueeze(1)\n",
        "            scores = torch.zeros(batch_size, L, device=X.device)\n",
        "\n",
        "            for j in range(L):\n",
        "                xk = X[:, j, :]\n",
        "                k = self.wk(xk).unsqueeze(1)\n",
        "                scores[:, j] = torch.matmul(q, k.transpose(-2, -1)).squeeze(1).squeeze(1)/math.sqrt(dk)\n",
        "\n",
        "            probs = F.softmax(scores, dim=-1)\n",
        "            e = torch.zeros(batch_size, self.embed_dim, device=X.device)\n",
        "\n",
        "            for j in range(L):\n",
        "                xv = X[:, j, :]\n",
        "                v = self.wv(xv)\n",
        "                e += v * probs[:, j].unsqueeze(-1)\n",
        "\n",
        "            e = self.wo(e)\n",
        "            E.append(e)\n",
        "        return torch.stack(E, dim=1)\n",
        "\n",
        "    def attention_matrix(self, Q, K, V):\n",
        "        dk = K.size(-1)\n",
        "        scores = torch.matmul(Q, K.transpose(-2, -1))/math.sqrt(dk)  # shape: (L, L)\n",
        "        probs = F.softmax(scores, dim=-1)  # shape: (L, L)\n",
        "        E = torch.matmul(probs, V)  # shape: (L, D)\n",
        "        E = self.wo(E)\n",
        "        return E\n",
        "\n",
        "    def forward(self, X, version=\"matrix\"):\n",
        "        # X deve ter tamanho (context_size, embed_dim)\n",
        "        # Adicionar embeddings de posição\n",
        "        X = self.embedding(X)\n",
        "        X = self.positional_encoding(X)\n",
        "\n",
        "        # Obtenha Q, K, V\n",
        "        Q = self.wq(X)\n",
        "        K = self.wk(X)\n",
        "        V = self.wv(X)\n",
        "\n",
        "        if version == \"loop\":\n",
        "            E = self.attention_loop(X)\n",
        "        elif version == \"matrix\":\n",
        "            E = self.attention_matrix(Q, K, V)\n",
        "        else:\n",
        "            raise ValueError(\"Versão desconhecida. Escolha 'loop' ou 'matrix'.\")\n",
        "        E = E.view(E.size(0), -1)\n",
        "        # Aplicar a camada feed-forward\n",
        "        return self.feed_forward(E)"
      ],
      "metadata": {
        "id": "cdteOTIn-j2h"
      },
      "execution_count": null,
      "outputs": []
    },
    {
      "cell_type": "code",
      "execution_count": null,
      "metadata": {
        "id": "7yjQ1KXOzJ_K"
      },
      "outputs": [],
      "source": [
        "embed_dim = 64\n",
        "ff_hidden_dim = 128\n",
        "context_size = 5\n",
        "vocab_size = 2000\n",
        "\n",
        "model = LanguageModel(vocab_size, embed_dim, ff_hidden_dim, context_size)"
      ]
    },
    {
      "cell_type": "code",
      "execution_count": null,
      "metadata": {
        "id": "xmsD59TfzJ_K",
        "colab": {
          "base_uri": "https://localhost:8080/"
        },
        "outputId": "ad9455fd-cc70-4b79-b8d0-e55f98bb3632"
      },
      "outputs": [
        {
          "output_type": "execute_result",
          "data": {
            "text/plain": [
              "torch.Size([32, 5])"
            ]
          },
          "metadata": {},
          "execution_count": 21
        }
      ],
      "source": [
        "# sample = next(iter(train_loader))\n",
        "input = sample[0]\n",
        "target = sample[1]\n",
        "input.shape"
      ]
    },
    {
      "cell_type": "code",
      "execution_count": null,
      "metadata": {
        "id": "HGbJcT5KzJ_K",
        "colab": {
          "base_uri": "https://localhost:8080/"
        },
        "outputId": "4dc6b8cc-ad6c-43bd-9734-fd135319fba6"
      },
      "outputs": [
        {
          "output_type": "execute_result",
          "data": {
            "text/plain": [
              "True"
            ]
          },
          "metadata": {},
          "execution_count": 22
        }
      ],
      "source": [
        "output1 = model(input,version=\"loop\")\n",
        "output2 = model(input,version=\"matrix\")\n",
        "are_equal = torch.allclose(output1, output2, atol=1e-6)  # Verifica se os resultados são próximos\n",
        "are_equal"
      ]
    },
    {
      "cell_type": "code",
      "source": [
        "print(model)"
      ],
      "metadata": {
        "colab": {
          "base_uri": "https://localhost:8080/"
        },
        "id": "cdFjZCneRbDR",
        "outputId": "2bb78d14-100b-4b78-f479-e0859ddf8c38"
      },
      "execution_count": null,
      "outputs": [
        {
          "output_type": "stream",
          "name": "stdout",
          "text": [
            "LanguageModel(\n",
            "  (embedding): Embedding(2001, 64)\n",
            "  (positional_encoding): PositionalEncoding()\n",
            "  (wq): Linear(in_features=64, out_features=64, bias=False)\n",
            "  (wk): Linear(in_features=64, out_features=64, bias=False)\n",
            "  (wv): Linear(in_features=64, out_features=64, bias=False)\n",
            "  (wo): Linear(in_features=64, out_features=64, bias=False)\n",
            "  (feed_forward): Sequential(\n",
            "    (0): Linear(in_features=320, out_features=128, bias=True)\n",
            "    (1): ReLU()\n",
            "    (2): Linear(in_features=128, out_features=2001, bias=True)\n",
            "  )\n",
            ")\n"
          ]
        }
      ]
    },
    {
      "cell_type": "code",
      "source": [
        "total_params = 0\n",
        "for name, param in model.named_parameters():\n",
        "    if param.requires_grad:\n",
        "        print(f\"{name}: {param.size()} - {param.numel()} parâmetros\")\n",
        "        total_params += param.numel()\n",
        "\n",
        "print(f\"Número total de parâmetros: {total_params}\")"
      ],
      "metadata": {
        "colab": {
          "base_uri": "https://localhost:8080/"
        },
        "id": "CqyoNul5RiHB",
        "outputId": "93f41667-a3d4-4928-f50a-e536c66403a4"
      },
      "execution_count": null,
      "outputs": [
        {
          "output_type": "stream",
          "name": "stdout",
          "text": [
            "embedding.weight: torch.Size([2001, 64]) - 128064 parâmetros\n",
            "wq.weight: torch.Size([64, 64]) - 4096 parâmetros\n",
            "wk.weight: torch.Size([64, 64]) - 4096 parâmetros\n",
            "wv.weight: torch.Size([64, 64]) - 4096 parâmetros\n",
            "wo.weight: torch.Size([64, 64]) - 4096 parâmetros\n",
            "feed_forward.0.weight: torch.Size([128, 320]) - 40960 parâmetros\n",
            "feed_forward.0.bias: torch.Size([128]) - 128 parâmetros\n",
            "feed_forward.2.weight: torch.Size([2001, 128]) - 256128 parâmetros\n",
            "feed_forward.2.bias: torch.Size([2001]) - 2001 parâmetros\n",
            "Número total de parâmetros: 443665\n"
          ]
        }
      ]
    },
    {
      "cell_type": "markdown",
      "metadata": {
        "id": "UngUhyu7zJ_L"
      },
      "source": [
        "## Training"
      ]
    },
    {
      "cell_type": "code",
      "execution_count": null,
      "metadata": {
        "colab": {
          "base_uri": "https://localhost:8080/"
        },
        "id": "wntaV50nzJ_L",
        "outputId": "b97e045f-b691-4c29-a5db-4ad62825d485"
      },
      "outputs": [
        {
          "output_type": "execute_result",
          "data": {
            "text/plain": [
              "device(type='cuda')"
            ]
          },
          "metadata": {},
          "execution_count": 25
        }
      ],
      "source": [
        "# Verifica se há uma GPU disponível e define o dispositivo para GPU se possível, caso contrário, usa a CPU\n",
        "device = torch.device('cuda' if torch.cuda.is_available() else 'cpu')\n",
        "device"
      ]
    },
    {
      "cell_type": "code",
      "source": [
        "#\"\"\" TODO: calcule a perplexidade final no dataset de validação \"\"\"\n",
        "import numpy as np\n",
        "model.to(device)\n",
        "criterion = nn.CrossEntropyLoss() #\"\"\"TODO CrossEntropy\"\"\"\"\n",
        "def calculate_perplexity(model, dataloader, criterion, device):\n",
        "    model.eval()\n",
        "    total_loss = 0.0\n",
        "    total_words = 0\n",
        "\n",
        "    with torch.no_grad():\n",
        "        for contexts, targets in dataloader:\n",
        "            contexts, targets = contexts.to(device), targets.to(device)\n",
        "\n",
        "            # Forward pass\n",
        "            outputs = model(contexts, version=\"matrix\")\n",
        "\n",
        "            # Calculate the loss\n",
        "            loss = criterion(outputs, targets)\n",
        "\n",
        "            # Accumulate the loss and the number of words\n",
        "            total_loss += loss.item() * contexts.size(0)\n",
        "            total_words += targets.size(0)\n",
        "\n",
        "    # Compute the average loss\n",
        "    avg_loss = total_loss / total_words\n",
        "\n",
        "    # Calculate the perplexity\n",
        "    perplexity = np.exp(avg_loss)\n",
        "\n",
        "    return perplexity\n",
        "\n",
        "# Exemplo de uso\n",
        "train_perplexity = calculate_perplexity(model, train_loader, criterion, device)\n",
        "print(f\"Perplexidade no conjunto de treino: {train_perplexity:.2f}\")"
      ],
      "metadata": {
        "colab": {
          "base_uri": "https://localhost:8080/"
        },
        "id": "_zrl36ZKGGYK",
        "outputId": "fa002321-4428-4ce3-dd06-f43518517fb4"
      },
      "execution_count": null,
      "outputs": [
        {
          "output_type": "stream",
          "name": "stdout",
          "text": [
            "Perplexidade no conjunto de treino: 1998.84\n"
          ]
        }
      ]
    },
    {
      "cell_type": "code",
      "execution_count": null,
      "metadata": {
        "id": "vRwSPiwizJ_L",
        "colab": {
          "base_uri": "https://localhost:8080/",
          "height": 671
        },
        "outputId": "37717383-b2e7-4579-9011-0b1b2df61955"
      },
      "outputs": [
        {
          "output_type": "stream",
          "name": "stdout",
          "text": [
            "Epoch 1/10 - Train Loss: 4.5573 - Val Loss: 4.4519 - Train Accuracy: 0.1533 - Val Accuracy: 0.1659\n",
            "Epoch 2/10 - Train Loss: 4.3634 - Val Loss: 4.4019 - Train Accuracy: 0.1675 - Val Accuracy: 0.1714\n",
            "Epoch 3/10 - Train Loss: 4.3155 - Val Loss: 4.3659 - Train Accuracy: 0.1720 - Val Accuracy: 0.1742\n",
            "Epoch 4/10 - Train Loss: 4.2952 - Val Loss: 4.3723 - Train Accuracy: 0.1741 - Val Accuracy: 0.1740\n",
            "Epoch 5/10 - Train Loss: 4.2842 - Val Loss: 4.3516 - Train Accuracy: 0.1753 - Val Accuracy: 0.1766\n",
            "Epoch 6/10 - Train Loss: 4.2775 - Val Loss: 4.3429 - Train Accuracy: 0.1760 - Val Accuracy: 0.1762\n",
            "Epoch 7/10 - Train Loss: 4.2730 - Val Loss: 4.3537 - Train Accuracy: 0.1762 - Val Accuracy: 0.1777\n",
            "Epoch 8/10 - Train Loss: 4.2696 - Val Loss: 4.3418 - Train Accuracy: 0.1765 - Val Accuracy: 0.1773\n",
            "Epoch 9/10 - Train Loss: 4.2671 - Val Loss: 4.3313 - Train Accuracy: 0.1770 - Val Accuracy: 0.1779\n",
            "Epoch 10/10 - Train Loss: 4.2643 - Val Loss: 4.3431 - Train Accuracy: 0.1772 - Val Accuracy: 0.1774\n"
          ]
        },
        {
          "output_type": "display_data",
          "data": {
            "text/plain": [
              "<Figure size 1500x500 with 2 Axes>"
            ],
            "image/png": "[encoded data removed]"
          },
          "metadata": {}
        }
      ],
      "source": [
        "import torch.optim as optim\n",
        "import matplotlib.pyplot as plt\n",
        "\n",
        "epochs = 10\n",
        "lr = 1e-3 #\"\"\"TODO, experimente!\"\"\"\"\n",
        "criterion = nn.CrossEntropyLoss() #\"\"\"TODO CrossEntropy\"\"\"\"\n",
        "\n",
        "optimizer = optim.AdamW(model.parameters(), lr=lr) #\"\"\"TODO: AdamW ou outro, experimente!\"\"\"\"\n",
        "\n",
        "model.to(device)\n",
        "\n",
        "#\"\"\"TODO: Implemente o loop de treinamento. Em cada época, calcule e imprima a loss no dataset de validação. Opcional: Plote um gráfico da loss de validação e treino\"\"\"\"\n",
        "# Função de Treinamento\n",
        "def train_epoch(model, dataloader, optimizer, criterion, device):\n",
        "    model.train()\n",
        "    epoch_loss = 0.0\n",
        "    correct = 0\n",
        "    total = 0\n",
        "\n",
        "    for contexts, targets in dataloader:\n",
        "        contexts, targets = contexts.to(device), targets.to(device)\n",
        "\n",
        "        optimizer.zero_grad()\n",
        "\n",
        "        outputs = model(contexts, version=\"matrix\")\n",
        "\n",
        "        loss = criterion(outputs, targets)\n",
        "        loss.backward()\n",
        "        optimizer.step()\n",
        "\n",
        "        epoch_loss += loss.item() * contexts.size(0)\n",
        "\n",
        "        # Cálculo da acurácia\n",
        "        _, predicted = torch.max(outputs, 1)\n",
        "        total += targets.size(0)\n",
        "        correct += (predicted == targets).sum().item()\n",
        "\n",
        "    accuracy = correct / total\n",
        "    return epoch_loss / len(dataloader.dataset), accuracy\n",
        "\n",
        "# Função de Avaliação\n",
        "def evaluate(model, dataloader, criterion, device):\n",
        "    model.eval()\n",
        "    epoch_loss = 0.0\n",
        "    correct = 0\n",
        "    total = 0\n",
        "\n",
        "    with torch.no_grad():\n",
        "        for contexts, targets in dataloader:\n",
        "            contexts, targets = contexts.to(device), targets.to(device)\n",
        "\n",
        "            outputs = model(contexts, version=\"matrix\")\n",
        "\n",
        "            loss = criterion(outputs, targets)\n",
        "            epoch_loss += loss.item() * contexts.size(0)\n",
        "\n",
        "            # Cálculo da acurácia\n",
        "            _, predicted = torch.max(outputs, 1)\n",
        "            total += targets.size(0)\n",
        "            correct += (predicted == targets).sum().item()\n",
        "\n",
        "    accuracy = correct / total\n",
        "    return epoch_loss / len(dataloader.dataset), accuracy\n",
        "\n",
        "# Loop de Treinamento e Avaliação\n",
        "def train_and_evaluate(model, train_loader, val_loader, optimizer, criterion, epochs, device):\n",
        "    train_losses = []\n",
        "    val_losses = []\n",
        "    train_accuracies = []\n",
        "    val_accuracies = []\n",
        "\n",
        "    for epoch in range(epochs):\n",
        "        train_loss, train_acc = train_epoch(model, train_loader, optimizer, criterion, device)\n",
        "        val_loss, val_acc = evaluate(model, val_loader, criterion, device)\n",
        "\n",
        "        train_losses.append(train_loss)\n",
        "        val_losses.append(val_loss)\n",
        "        train_accuracies.append(train_acc)\n",
        "        val_accuracies.append(val_acc)\n",
        "\n",
        "        print(f\"Epoch {epoch+1}/{epochs} - Train Loss: {train_loss:.4f} - Val Loss: {val_loss:.4f} - \"\n",
        "              f\"Train Accuracy: {train_acc:.4f} - Val Accuracy: {val_acc:.4f}\")\n",
        "\n",
        "    return train_losses, val_losses, train_accuracies, val_accuracies\n",
        "\n",
        "# Treinamento e Avaliação\n",
        "train_losses, val_losses, train_accuracies, val_accuracies = train_and_evaluate(model, train_loader, val_loader, optimizer, criterion, epochs, device)\n",
        "\n",
        "# Plotar Gráficos de Loss e Acurácia\n",
        "def plot_metrics(train_losses, val_losses, train_accuracies, val_accuracies):\n",
        "    fig, axs = plt.subplots(1, 2, figsize=(15, 5))\n",
        "\n",
        "    # Plot de Loss\n",
        "    axs[0].plot(train_losses, label='Train Loss')\n",
        "    axs[0].plot(val_losses, label='Val Loss')\n",
        "    axs[0].set_xlabel('Epoch')\n",
        "    axs[0].set_ylabel('Loss')\n",
        "    axs[0].set_title('Train and Validation Loss')\n",
        "    axs[0].legend()\n",
        "\n",
        "    # Plot de Acurácia\n",
        "    axs[1].plot(train_accuracies, label='Train Accuracy')\n",
        "    axs[1].plot(val_accuracies, label='Val Accuracy')\n",
        "    axs[1].set_xlabel('Epoch')\n",
        "    axs[1].set_ylabel('Accuracy')\n",
        "    axs[1].set_title('Train and Validation Accuracy')\n",
        "    axs[1].legend()\n",
        "\n",
        "    plt.show()\n",
        "\n",
        "plot_metrics(train_losses, val_losses, train_accuracies, val_accuracies)"
      ]
    },
    {
      "cell_type": "markdown",
      "source": [
        "## Avaliação"
      ],
      "metadata": {
        "id": "PSXfwYISDoPN"
      }
    },
    {
      "cell_type": "code",
      "source": [
        "\"\"\" TODO: calcule a perplexidade final no dataset de validação \"\"\"\n",
        "val_perplexity = calculate_perplexity(model, val_loader, criterion, device)\n",
        "print(f\"Perplexidade no conjunto de validação: {val_perplexity:.2f}\")"
      ],
      "metadata": {
        "id": "nXXO78GSDqPg",
        "colab": {
          "base_uri": "https://localhost:8080/"
        },
        "outputId": "5caa1182-70fa-4e5b-f212-fcc31e5aad7a"
      },
      "execution_count": null,
      "outputs": [
        {
          "output_type": "stream",
          "name": "stdout",
          "text": [
            "Perplexidade no conjunto de validação: 76.94\n"
          ]
        }
      ]
    },
    {
      "cell_type": "markdown",
      "metadata": {
        "id": "A1zhxVqfzJ_M"
      },
      "source": [
        "## Exemplo de uso"
      ]
    },
    {
      "cell_type": "code",
      "execution_count": null,
      "metadata": {
        "id": "3PExkoWOzJ_M",
        "colab": {
          "base_uri": "https://localhost:8080/"
        },
        "outputId": "b7816e63-08b2-467b-fba7-57e854a4d5a5"
      },
      "outputs": [
        {
          "output_type": "stream",
          "name": "stdout",
          "text": [
            "Contexto Inicial: santa teresa , quando ele\n",
            "Texto gerado: santa teresa , quando ele não lhe não não , nem a que a não , nem a que a não , nem a que a não , nem a que a não , nem a que a não , nem a que a não , nem a que a não , nem a que\n"
          ]
        }
      ],
      "source": [
        "def generate_text(model, vocab, start_text, max_length, context_size, device):\n",
        "    model.eval()\n",
        "\n",
        "    # Codifique o texto inicial\n",
        "    context = encode_sentence(start_text, vocab)\n",
        "\n",
        "    # Garantir que o tamanho do contexto esteja correto\n",
        "    if len(context) < context_size:\n",
        "        raise ValueError(f\"O contexto inicial deve ter pelo menos {context_size} palavras.\")\n",
        "\n",
        "    generated_indices = []\n",
        "    # Começar a geração de texto\n",
        "    for _ in range(max_length):\n",
        "        # Obter o contexto atual\n",
        "        input_context = torch.tensor([context[-context_size:]], dtype=torch.long, device=device)\n",
        "\n",
        "        # Forward pass\n",
        "        with torch.no_grad():\n",
        "            output = model(input_context, version=\"matrix\")\n",
        "\n",
        "        # Obter a palavra mais provável\n",
        "        predicted_index = torch.argmax(output, dim=-1).item()\n",
        "\n",
        "        # Adicionar a palavra ao texto gerado\n",
        "        generated_indices.append(predicted_index)\n",
        "\n",
        "        # Atualizar o contexto\n",
        "        context.append(predicted_index)\n",
        "        context = context[-context_size:]\n",
        "\n",
        "    return start_text+' '+decode_sentence(generated_indices, idx_to_word)\n",
        "\n",
        "def get_random_context(val_cleaned_text, context_size):\n",
        "    # Divida o texto em palavras\n",
        "    words = split_text_into_words(val_cleaned_text)\n",
        "\n",
        "    # Verifique se há pelo menos `context_size` palavras\n",
        "    if len(words) < context_size:\n",
        "        raise ValueError(f\"O texto deve ter pelo menos {context_size} palavras.\")\n",
        "\n",
        "    # Escolha uma posição aleatória para começar\n",
        "    start_index = random.randint(0, len(words) - context_size)\n",
        "\n",
        "    # Pegue as palavras do contexto\n",
        "    context = words[start_index:start_index + context_size]\n",
        "\n",
        "    # Converta as palavras em texto\n",
        "    context_text = join_words_to_text(context)\n",
        "\n",
        "    return context_text\n",
        "\n",
        "# Exemplo de uso\n",
        "text = get_random_context(val_cleaned_text, context_size)\n",
        "print(\"Contexto Inicial:\", text)\n",
        "max_length= 50\n",
        "generated_text = generate_text(model, vocab, text, max_length, context_size, device)\n",
        "print(f\"Texto gerado: {generated_text}\")"
      ]
    },
    {
      "cell_type": "code",
      "source": [],
      "metadata": {
        "id": "Fz1RJZ13gQPf"
      },
      "execution_count": null,
      "outputs": []
    }
  ],
  "metadata": {
    "colab": {
      "provenance": [],
      "gpuType": "T4"
    },
    "kernelspec": {
      "display_name": "Python 3",
      "name": "python3"
    },
    "language_info": {
      "codemirror_mode": {
        "name": "ipython",
        "version": 3
      },
      "file_extension": ".py",
      "mimetype": "text/x-python",
      "name": "python",
      "nbconvert_exporter": "python",
      "pygments_lexer": "ipython3",
      "version": "3.10.12"
    },
    "accelerator": "GPU"
  },
  "nbformat": 4,
  "nbformat_minor": 0
}