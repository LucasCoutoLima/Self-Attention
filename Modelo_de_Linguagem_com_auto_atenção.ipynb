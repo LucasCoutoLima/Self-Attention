{
  "cells": [
    {
      "cell_type": "markdown",
      "metadata": {
        "id": "fMI0JT_YuYF3"
      },
      "source": [
        "## Exercício: Modelo de Linguagem com auto-atenção\n",
        "\n",
        "Este exercício é similar ao da aula passada, mas iremos agora treinar uma rede neural *com auto-atenção* para prever a próxima palavra de um texto, data as palavras anteriores como entrada.\n",
        "\n",
        "![image.png](data:image/png;base64,iVBORw0KGgoAAAANSUhEUgAAAk0AAAFjCAYAAAAgtD+DAAAAAXNSR0IArs4c6QAAAARnQU1BAACxjwv8YQUAAAAJcEhZcwAADsMAAA7DAcdvqGQAAEhYSURBVHhe7d0NcFXlnfjxX0TRWq2KmgJi0/hSkQJVJLWhNhZU0m1JKQm4IyzLOpbsi8zsTCnbYUL1v5Y7zCzF6czCziysSykSWyFYDGsbbGONSrBBtKBs2qIxQiGmNXWrtr7n/zzPec695577dm5ybu7Nvd+PcyXn5d577jnnec7veTnPKRtUBAAAAGmdZv8FAABAGgRNAAAAARA0AQAABEDQBAAAEABBEwAAQAAETQAAAAEQNAEAAARA0AQAABAAQRMAAEAABE0AAAABEDQBAAAEQNAEAAAQAEETAABAAARNAAAAARA0AQAABEDQBAAAEABBEwAAQAAETQAAAAEQNAEAAARA0AQAABAAQRMAAEAABE0AAAABEDQBAAAEQNAEAAAQAEETAABAAARNAAAAARA0AQAABEDQBABAUn3SfGuZNDzQZ6fzoVMiZWUSOWAnS4r+7Q3SfMJOFgCCJgAAkuh74E5ZIjtk023j7RyMrGpp6pwhSy6NqPCpMBA0AQDgd6JZ7lwssuPexULIlEefu0N2LFoj381rbV8MQRMAoEQ4TV0ND3SaZrcy9bd53dos/kty59YlsntRg8yZpKecZjr/ep3f0e/3NR8diCTOC42z/WXf8da72G0ri6+N6XugIWHeyAh7X42Xxd9YK7sX31cQtU0ETQCAkrJ78SxpWXBKBgcH1euU7JAlMiHuIt8p7XeJ1C+YY2uZxsucBfUiO3ukx0xrzjrq06THc9HvfHSNSDTYClu1zLlH/XOkJ7atJ9qlZaf+45BnO/qk/aHdIvfMUe8YaTnYV5+bI2ulMGqbCJoAAKXlnv3SEu2nNF4W37tD6ncukfvcztYnelQIIjKjMtYwN/4LDVKvLtztceuslbUqiFnzqFsH4g+2wld9y1oVkLRIuxt8qO3YvUhtx6Ld0vKEDSpsILX2lpEPmbTw91WlVC5SIdexWBiWLwRNAICSUn9Fpf3LmlQpM9Q/0Qu6DkTUZb/SWwMyaY40qAu3u07fEy0qWKmUOVfUx2p+THBQLw1fyFXIpJhal1iAZGprps2ROdM8QYXZ/rUy53PO5IgLfV+Nl0r1++Jq2PKEoAkAUFK8NUgOpybD1dej65n8bLOTvXD3HFNh1YI5Uq1rVWzNjxMc5KppzuU00TkBUp/0HHFqlEwN1F3tosMUE0jlpWnOVSj7KnwETQCAknKox19f0SM9pl+QY3ylrndKZOabi77TtGSCL1NLpfvqOP2Ictk056rUNTY6QDLNcLZGTG1Hveh+Tc625atpzlUo+ypsBE0AgJKS0DfGNBV5Ag0TgMR3WjZs01jP1nZZE23+cmp+1tx7pwlgcto0Zzl9hg5J+1ZPbY1pEtstLd/4rmfb8ijUfeXUqMm0yrwHWQRNAIDSctcszwjbnRK5VA8vsEPucAMN28cpsUbKXvTv0nd9VYrbM8rU/OzcPXLNTTZAWnPXbk8g4fT72a22I79Nc64w95VTE5jQFy0PCJoAACWlvnmHuqbrcYP0a5asuWe/DD7oHcSyWu5orpfdD7UndDw2fYcUb9OSU/MT9E6wMNg+Q4q3Gc7dtmBNc0nGfDrRLA1qnvexMc54T/FjKTljLnnGgEryPi20fXXAqa36ZgGMzF42qAeqAACg6OlAYZYcaj7lGXIgBR0IXLpEZnQOStNINnXpAR8fnSOD33YDH2ebZbjboX/PN0Q2eYNDPW9rpbREv2sY1HY39NyReb9mTQ+WOcGMqxX+Z2ePmiYAAPwmLZZNzfWy5t7E0cLDoGtr/A/hNbU61WvsVIh0IKabIO2kS9/BJiE1eek79hLvSgzBgftkyc7CqGXSCJoAAEhi/G2bzGjhdw5pJOpOidzaYJqtUj2qJV6ntMsmGex0mrTC0yfNPXNk8PgO0ywWo+9gmxFSMKK2/YinT1jWUu0rNb/6kOw43lQAfbQcBE0AgBJRLU2Dg1k084yXxQ9ms77PTpGG4+6jWpzxiZz+QGUy6y6RNbZflVPjVC2Lc1Kbon7DbclCDv3bwgpG1H6N6xM2BEn2lXO8WmRxAY3lRNAEAEAuRO8QsyNaK9Xf1oHBoOy/R2Rtp/N3+r5KTqA3ov2q8iHJvipEBE0AAAABEDQBADDCdI1T0dceFSGGHAAAAAiAmiYAAIAACJoAAAACIGgCAAAIgD5NAICipy91L774ohw5ckQuu+wyOxfFZOzYsTJp0iQ599xz7ZzwETQBAIra3r175ec//7mMHz9e/vSnP5l/9aCSKC7vvvuuvPLKKzJt2jT56le/KhdffLFdEh6CJgBA0fqP//gPOe200+SWW26RcePG2bkoVh9++KE88cQT8uSTT8o//dM/hV6rSNAEAChKO3fuNDVL9fXxT11D8Xv22WdN8HT33XfbOeGgIzgAoOgMDAzIU089JV/+8pftHJSSa6+91jTD/uIXv7BzwkHQBAAoOt3d3TJ16lQ566yz7ByUGn38X3jhBTsVDoImAEDR0UGT7hiM0qX7sumO4WEiaAIAFB3dNJOLu6cweuiO/2effbadCgdBEwAAQAAETQAAAAEQNAEAAARA0AQAABAAQRMAAKNKv+y6fZzp6KxfGw6qWQc3yLj1Xc5i5AxBEwAAo8nB7dK4p042Pz9gBvFcOVMFUZsidiFyiaAJAIBRpL/3sPr/dKmY6Exj5BA0AQAwIuKb1cwroUktcR3T/GY4yyYvb1V/R6RWL7/93+SecZOlcY+ata5Wrb9Mdp0U6Vqvl+2SrpZlns9ylpmmvOg87+dbJ3fJMs9y/VrW0m8X2s/2v8/9zCJvIiRoAgAg53TAo4Ib2SzdA06z2sBAmzSpQCcWkHTJBh0AedfZ1ySRuW7QUi4Ltw5I95Y69XeTtOnlW/9F7hrols3z1azVbeo922ShWwO1p1FqX1phv0uv0yqNU1Vgs6ki+vn6syJzbTCl6YBpaqNM32e/X7/UNrQunxwNkqpWOd8XmbtBbbGmtntuRGS+2u5VVWZOsSJoAgAg53qld49I3bwaFfq4qmSlCkq2NThz+ls2SkQHQ1sXxtaZuVLaVosKWrbbACUb6rOiQUy51MzTwVadbI7EPr+8uk7NaZVeGzR17WiUVhX8LJ3pTBszlzpB0mPuFqjgLbJZvS8iteu7pGt9rfor/nOLFUETAAA5VyU1JviZLOPGuTU08XpfahWZXyEVdtpVNbtJ/f9wNLAJLMlnZVK1akAG3KAt2oxnm/+8Ji6U9brGa12t1K5TodiW9bEariJG0AQAwAgwAck+HQDZ/kjm5QZQ/dJ71PyRX97+THMjKhjqtk17drlHecMK0b9G12itsLVlxY6gCQCAkTJzZayv0PO2icsETuVSMcWukzf9sqvJaZ5z+zy5TYfJOM1ymtNMVwoImgAAyAe3ics2vVVcpv7e0yodvma4rsd0aDISQww4/a5kSkV836STHdLqb547uME2y3U7tWfrahPvwitCBE0AAOScvjNunO+W/H7p2Kv7MdVJjQqInOauVmls2qWWWNHgZKmkvi/N1lId7Y29b0gqpEI3w63r8PS5srVPdsoRu1tuva6Jsp3VY3fTFS+CJgAAck7fKecMMeD0ZdIvO7xA9G45vU63mtMok6P9ig6bkb/TNZNpprP4Hud9Q6/x0UMa6P5L3j5Xk6X3zgETFDnBlB46IfFuuapV6rdFmxqLV9mgYv8GAKAoPPLII/LWW2/JzTffbOeg1PT398sPf/hDufvuu+2c4aOmCQAAIACCJgAAgAAImgAAAAIgaAIAAEVp7Nix9q9wEDQBAIrOGWecIe+//76dQil677337F/hIWgCABSdSZMmyfHjx+0USlFPT4984hOfsFPhIGgCABSdq6++Wt555x05erQQHuiGkaZrmZ5++mn57Gc/a+eEg6AJAFCU6uvrZdeuXfLSSy/ZOSgFOmDS4zNdc801cuWVV9q54WBwSwBA0XrmmWdkx44dcu2118pVV10l7777rlx44YV2KYqJDpZefvllU8M0Y8YMaWhosEvCQ9AEAChqb7zxhjz55JPym9/8Rnp7e83jQVB8dOd/3YepqqpKrrjiCjs3XARNAAAAAdCnCQAAIACCJgAAgAAImgAAAAKgTxMAoCS8+uqrpjO4HvgSxUd3BM/1sSVoAgAUtccee8y8PvzwQ3n77bfloosusktQTPRwEq+99prMmjVL6urq5Oyzz7ZLwkPQBAAoWtu2bZOBgQG56aab5NJLL7VzUazc4SW6u7vlH/7hH2TixIl2STgImgAARenhhx82z59bvHixnYNS0dnZKUeOHJFvfetbdk446AgOACg6usahra1N5s2bZ+eglFRXV8tHP/pReeqpp+yccBA0AQCKjn5Q7/Tp0+VjH/uYnYNSo4+/rm0KE0ETAKDovPjiizJmzBg7hVJ0+umnm+bZMBE0AQCKzvnnny/nnXeenUIp0g9mHjt2rJ0KB0ETAABAAARNAAAAARA0AQAABEDQBAAAEABBEwAAUf2y6/ZxMu72XeqvVOw667vs9GjQJRvGjZMNB/XfdvvVdLLXspbUv3zonO/PtM+61utt2KDWdrbR2d7CQdAEAEBWymXh1gEZWFVlpwtf1/paiaxuk5Uz7Qxt/mbpHlC/w/t6frPI8sk5CAirZOmWOpF1G2XXSTsrQZd0rBOp27JUra32cWSzHJ67LM36I4+gCQCAYnZwg9Sua5K2IEHexIWybV+TCm5qQ69xKq+ukzppldbOFJ97sEMiao266nJnWm3LitWt0rijcGr0CJoAAMiKv3nOaXrSQYbTvOS+dDOTn22mir6S1aT411GvuJof5/uXteyKrZeyOVGtuykisrpGAteLzVwqm+eLtO7tSPGZuubK+d645jMVnCVuq4cJglJ9rt3O+XVS43nGbtWSzVKXtnZqZBE0AQAQgtblk6VjttvU1SZNEpFabzBzcpcsG+c0k7nNYd1bRBqnegMnHTDVyuEt3dF1dJNZXZKan9bljSL77DpbF4qtn4l3skNa94g0zc6mKbFcKqaof/b0Sq8zI0HVqm4TWEXmuoGh2u65OujZLN1parSqZjepz22U7f6+Su523un7HRNrpG5+4dQ2ETQBABCGuD5Dtg+PJ/Do2tEorSqU8jaTlTesV8GHCgqanOCqv2WjCrWaZEWDJ3RIVUOjApSl3j5KyZzsVd9ZJxWe2psgKi5T2y6HpTdlDY/T56hOB4bru5w+U2pqcyRF8OaytViRx+KDoP7OVrNvahJ+jw3gjvYmqZ0aeQRNAACEoO6yCvtXMk4n58RmsnKpmRcLrsobtsnAwEpnHVMz5TSD1er3+k2pSB+gKP29h9X/p2cdNAWigrn1pnN3rdm+ui3rZWHG77G/d12HraHSumT7chXamQ7giUwAl6bWayQRNAEAkDO+2hoVYJh+P57XZBUwxHj6M01tlFbblNe22i7OUu9L3s8Oznlf5mCrvGGFNJm/fLVjaTjvichGt7nR3wG8gBE0AQAwQuq8fZXiXk7tktPM1SRt7vxhDmvgNLNlq196j6p/5ldIurozzdlezWmmC6ZKaqLNjW5H9RUBaqnyj6AJAICc8wYK8cydaKbDeKpgxTbtDUF5xXT1/3R9k5I4uF0ak3XK9jNDGdhA0A5TEHQwSqdDeKt0HMzcUd3UegUI4EYCQRMAACPA3D6/p1Eme2tkbODhBCjuXWsqmPAEObHanCGYWCF6bKTAQZPuR6XvgvMPhJkgdrfcet0sN3OlaUKM3U2XgekQ3iqNc53O8YkdwF02kAzQf2skEDQBAOCngxtPv6PoK3ATVBJ64Eg9FIG3X9Pcw7L5+YFogFK1SvdfUsHE1Nh3brysW7rNnXjxwVQg9s47/91qRrLfOLVRputhDNI2C+pxohLvlqtaZYdZSDo+lZ/tEK6k6gBumKEI1PcsGV4zZVjKBhX7NwAAReGRRx6Rt956S26++WY7p4TpQSdNcLZtVPQb8tJNl7XSNqS+Xf39/fLDH/5Q7r77bjtn+KhpAgCgmJmms8J6HEkgJ3fJxnWFU8ukETQBAFDkTNNZFh21869fdjXppsLCqh0jaAIAoOhVycqBWN+pwlcuC7cW3vYSNAEAAARA0AQAKDqnn366fPDBB3YKpej999+XM844w06Fg6AJAFB0JkyYICdPZnt/PorJK6+8IpMmTbJT4SBoAgAUnWnTppnHkBw7dszOQanp6uqS6667zk6Fg6AJAFCUFixYILt375a+vj47B6Vi165dUllZKZ/+9KftnHAwuCUAoGg98cQT8qMf/Ui++MUvytVXX236Op199tl2KYrJe++9Jz09PfL000+bZrm//du/tUvCQ9AEAChquqapo6NDfv3rX8upU6fknHPOsUtQLM4991x555135BOf+IR89rOflWuuucYuCRdBEwAAQAD0aQIAAAiAoAkAACAAgiYAAIAACJoAAAACIGgCAAAIgKAJAAAgAIImAACAAHI6TtPRo0flwIEDZoTOiy66SH73u9/ZJciFWbNmyfPPPy9XXXWV3HDDDeaBldn485//LO3t7eYz9ABwZ555pl2CXNGjE+uRa2fOnGkGZMvWs88+K7/85S/Ngyn18XrzzTftEuSCTiOXXHKJGVn6xhtvlAsuuMAuQbHS17CDBw+ah//qp+Yjt/QAlTqNTZ06VWbPni0f+chH7JLCkLOgaefOnebiqy/kl19+ORfgEaAzdJ2o//d//1cef/xxaWhoMI8OCEIHuNu2bTMnqn7QpT5RedRA7unjpQMenSnrfX777bcHziS+//3vm+D2+uuvl09+8pNyxhln2CXIFZ3GdKau8zb9qIa/+Zu/kaqqKrsUxeTtt9+W++67T959911TqLn00ktlzJgxdily5a233jLp7MiRI+Zaph+FMmXKFLs0/3ISND300ENy/PhxWbx4MSdZnvT398v9998vdXV1GWswTpw4If/2b/8mf/3Xf11QJ2ep+elPfyqvvfaarFixws5JTQe4OuCqr6+3czDSXn75ZfnBD34gjY2NpuYJxWXjxo1y4YUXype+9CU7ByNNB00//OEP5Vvf+papfSoEofdp0qVmXZ25aNEiAqY8Ki8vN0/4/vGPf2znpNba2iq1tbUETHmmM2cdCD311FN2TnK6BKYLJQRM+aVr9772ta/Jww8/bOegWDz55JPywQcfEDDlmS6M6GuTvkYVitCDpkOHDpmqzLPOOsvOQb5UVlaa4Om5556zcxK9/vrr8uKLL5pmVOSfbmrr6uqyU8nppryh9H9C+KZPn26a63StE4qHToM6LSL/9LXpt7/9rblWFYLQgybd1KPbflEYdJVmug74uk/MxIkT7RTyraKiwtTWpkMaKyw6jelOwigeOo3pp+WjMOibZQoljYUeNOnmBX1HEAqD7hz83nvv2alEugqa41U4xo4dm/GmCZ3G6PRdODKlMYw+Oh2SLxYOfSx0vlcIGKcJKDAMGwDkl757C0iGoAkAACAAgiYAAIAACJoAAAACKLKgqV923T5Oxo1L99ogCTd0H9yQfP5w6M+8fZfaIqRl9n2y4xR7LWvx70XnOCfOH44u2TBumeziJqj0Tu6SZUmOUdxrfWJK6m9ZFnp6MJ+Z5LuAUY00VtCKs6Zp/mbpHhiQgaSvlRL/0AN1sZwbkaZ9/vnDNHOltE1plMmccIE07Ut2rJzXtoZyu5ajv2WVNMpmWe+bPzxVsnLfdGmcGnLwXKTqtnQnPVbmtcqXktRFYNVykc2RhRLmEStvWC+bj9aGHDwDhYE0VphKvnmua32tRFa3ycqZdkaIqpZslrp1G6m9CFOOMgdj5lLZPD8iG8kgQtQvu5oaRbasl4WhDwdWLgvvbJLW5dsJdFHCSGMjqbSDJnUB3rhOpGm2jdptU9GGg86k4VaVxtUY2WbATLVIExfKitWt0riD0y0sXTsapXV+ndSYzMEeB1+VdNd6XYXta2ozxzZT8xsZROgObpfGPXVSV21D3LDTGIEuSp0vjZkmtaT5n79Lg+6SEKCbA2ksTkkHTf2drdIqTVLj1jLNrFFTIod7YyeHs45ytDd2YT7ZIa17PMFWGlWz1SdS2xSSLulQQW7dvBpby1QuNfPqRPb0Sq+Z1px1RB21Xs8+73osIhINttIw5wAZRFgS9nvoacw5Bwh0Uar8aay8WgVQyfI/pfWlWE4pBztUTucp0KREGvMqzqBpT6NM1iXXJC9vVN37ksqq51dIhZ3W/VpqVqsTa29HNPPW69StbpK6Pa3SYU/ChGArnYkVCScwEkXmJj9ecR30T/bKYfXP9IpYIncyiIh0uDUXZp0maVLHMfKY+05/sJWOOh/m+zIXJGhdPjnJsdIvbwm3X3qPqn+mVHj2e/hprLxiuvr/YdJYznRKpKxMyr7TaaeVE83SoOY1PNBnZ6i1vqPWKYuotRGGIaexiTVSp/KwWP7nrNOk0pis64jmp4ELkgppLKbkOoLHOhUny9BtzVA083YuttNn18h0T+Bjgq3VNcE6jqugyZxunpI1EqXuCO7poK8CInV5lQpvIvdlEOZiqwLhmsvqYjUXJpAKUqLSyqViivrHW+uBBKk7qW7z9Kvold49at3LYsUSLRdpjIJJLlVL0+CgDH672k4rkxZLi5rXctt4O0Ot9W21zmCTWhthGHoaszXwboBkam1VvjlbpxM38HGuf8EKkgppLKqEm+ecky2BaT6wJ4ettaiZ6ZSOnQuzk8kHaZpDuPp7dT2Tn80gbJBjai1URlCla6DshdkJpIKVqBAiWzOYgDQGhCNFGnNq4G2ApNYx+Z9Kd3XzVV7YqXJKG0gFK0jCq4SDJqcZJpEzX2febq2FjuEr3JoL0w4csGkOoXKqiBOZ+SZAsrUWuvnO1PDpC3O/dOx1AimyhxFma1kTkcaAUKRKYzb/0wGSaYYzLSpOLbruekBBcuhKOGhK1Qzj1lx0yHbPxdZE7urCvGqTOgGDNhtotiTg7YeDIUpVRezWXOzwXmxtzcWmVVmWqJI322IonOAosX9Y+GksodkWKAmp0pjtO/jS9rhaW/fGpFXZFiRJY1ElHDTZkm3cnVcOJ/OOSGSPJ9hxI/dAd/R4cLKFx5aqEvuH2QBpne7Y6NRaaM7xzbZElbwfDoYidf+wMNOY02w7nTSGEpQ6jTkBkkpj3uuPLXhm2zRHGospzqApzd1z+uWOEVPesEL07eXRO69ctnOxyro9TQTOhTl+XmamanT1ihwMOlZcUt89p17RcZiqZOkWleQ9d165TAaheEtPTrt+Fp0dNds0tCLU0caLT+o7e/QrdsejGeDV9i2LE1oas82vW5aqdwPFY9hpzA7vEXeHnJvusipIksa8ygYV+3covve978kNN9wgl19+uZ1T2PRAiLVHN0v31mGOMK0HD3usJn54ez1o31R1sj3vvdthZD3++OPm36997WvmX7/nn39e2tvbZenSpXZOgTP7tFGm7xsY8ijuevC3ycvNyEAqoG3zHDM9oOJkaZ3XnfDolpHywQcfyL/+67/Kv//7v9s5ie6++25zvC688EI7p5A5+7Rxinc/Z0sPwlerglmtSdq8d1TqdDdX4ueNsNbWVqmoqJAbb7zRzsFo98///M/S1NQkZ5xxhp1TyMJIY2kUQBq7//77TfqaPj15L8mRVNLNc1rVqjZp2tMo2/21TVkwI7DOdbJ0LzN6NbVM4Zq4UNZvqZPIpiE+mFIFXav21kWHpGiT2tjo1GZkXWqZwlUuCyPDe5xQf8tGETskRfeWw56BR9XFYlOEEjBK3PDTWGqkMb+SD5p0k8DKfU0SmTvUB7V2SYeslwH1GXFUdG5qsHIR+Zc48xBJaZRVQxm1WwVd2zy1iqbfk6Ef3HxYNj+fv9JU0TKBrkhj09AC3fKGbUlrFc2Dm1XpOl+1gkDBGFYa0zVVy2SZfmyRr+mPNJaIoEmbuVKVYod6sayShclOKP2Zw23yQwqqZLXVO1Dp0JhmupdW2AuyCp7jBo1DmHTgM7z04Dwna/Ly6dGaQPOZFEoAY3hprFWm32lr31fH+vmSxhIRNKEk6b5sq3QNIRnCKKGDWp2p10iH7wHNAIYrdvNFrPYdyYQeNP3lL3+RP/zhD3YK+fb666/Ln/70JzuVqL+/X9566y07VQp0VfQ46Zg9/JqqXNAdwfUrnXfffVf++Mc/2qnipwPcaL8zO+5ZIXnjjTdMCR3FQ6fB9957z04h3/785z/L73//ezuVX6EHTZ/4xCck5BvyMAw68V922WV2KtHkyZPl7bfftlMlwHT2jh/iIHpBLgC6wDF+fOx5XslccsklJZWh65s1xD1e+m7USGE1e+sg9sorr7RTKAY6DZZSwaTQ6cqYq666yk7lV+hB06c//Wk5cuSInSohug9TgTX16OhcH4spU/ToZ8lNnDhRTj/9dPntb39r5xQ503/Nabt3X0MduiAXnn322Yy31U6bNk0OHy60+pZccpvm9Kuw+p3pmtrjx4/L1VdfbeegGOg0qNNiadB9RGN9elPdeJEvx44dk9NOO00mTZpk5+RX6EHTNddcIx/5yEfM2D/ILz1+TE1NjSmhp/OlL31JHnnkkRJrpis8L7zwgglyb775ZjsnOT1eyWuvvSZPP/20nYN82bt3r3z5y1+WMWPG2DkoBjfddJNJj3ocO+SPLvj/5Cc/MdeoQjHm/yn279DoJp+2tjY5efKkfPzjH5ezzjrLLsFI+N3vfic//vGPTfC6ZMkSOzc13dyjT849e/bI+eefLxdffLFdgpHw/vvvy5NPPmkyh69//eum9i8TPXjsQw89ZPrTTJgwYZQMwlc8XnrpJdm5c6fpjvDVr37VzkWxGDt2rFx66aVmUEVN55EExiOru7tbfvSjH0lVVZXMnj3bzs2/0EcEd+m+NPoirC8G5513nnzsYx8rrb4zefCpT31KnnvuOdOnTJ9kurSUDV0dvW/fPlOLoTONj370o3YJckWnk76+PpkxY4Z85StfMYWMoHTApGsTOzs7pby83DSzIrf0jRX64qkLgjp9ff7zn7dLUIx086uuTXzmmWdM4YTAKffefPNNU5DULSS33HKLyRsLSc6CJi9d86E7SyL3zj777KwuvMnoDpC6alqXrpBbuq1edzo988wz7Zzs6cBL1+rqjAa5pfMyXZN+0UUX2TkoBe+88468+uqrJq0ht3Qa032jL7jgAjunsIxI0AQAADDaMbglAABAAARNAAAAARA0AQAABEDQBAAAEABBEwAAQAAETQAAAAGM6JAD+qF7epRPPaaMfvI+Y14AAFCa9MDXegxH/RSKyspKMwp7oRuRoEkPCqZHmtYjF+uB4fRjIs455xwzsB8AACg9+nFEOh7QT6Ho6ekxg/x+8YtfLOiR9nMeND3++OPm+TH6kQPV1dXmeWgAAABex44dkyeeeMI8rmbx4sUF+RzUnAZN+rlYv/rVr6ShocE8KgIAACCdjo4O0zL1j//4j1JRUWHnFoacBU3t7e1y4MAB+bu/+ztqlwAAQGD6Icm6pepf/uVf5Nxzz7Vz8y8nnYpeeeUV2bNnjyxatIiACQAAZOW6666TqVOnyoMPPmjnFIacBE0/+clPZO7cuTwJHAAADImOI3QlzK9//Ws7J/9CD5r6+/tNZ65Zs2bZOQAAANm7/vrr5amnnrJT+Rd60HT06FGZMmWKnQIAABiaadOmyZEjR+xU/oUeNOmqtEsuucROAQAADI0e01EPgqkHxS4EoQdNr7/+upx//vl2CgAAYOh00KRji0IQetD04YcfMtI3AAAIxemnny7vv/++ncovohsAAIAACJoAAAACIGgCAAAIgKAJAAAgAIImAACAAAiaAAAAAiBoAgAACICgCQAAIACCJgAAgAAImgAAAAIgaAIAAAiAoAkAACAAgiYAAIAACJoAAAACIGgCRrH+lmUybty4+Nf6Lrs0G12yQb13WUu/nVYOboh95u27xLMkhX7ZdXuGbTi5S5b5P0t/z5C2OQi9Tctk10k76W5jzr4PQDEjaAJGqa7142Ty8unSNjAgA9FXmzStq1WBywYVBg2HCi42RURWtzmfu3WhlNslKZ3skNY9InXz60TWbfQEKjFdOxql1f7tsN+TKwe3S6PapphyWbhV/Z5VVXYaAIIjaAJGo5O7ZOM6kaZ9KyX+8l8lK5/fLHUSkY6DdtaQ9EqvDoAuq7DTmfV3tqqAqElWROrU96u/OzPXTQHAaELQBIxih3uTBCYTF8q2gQFZOdNOG56mM/vakCqoMs1ytSrsEmldPjn9ulFdsn15q8jqGqlS379itXrv3g71rS7n+2tVoCd7GmWy+UzdJDjZqQkytWNJmtFSbm+sOVHXuMXWi9WwmabLueZXSONUtcw0ydnP9TXPJTRzxi2PvSd+Pe/2AigFBE3AaDSxRurm26AmY38jG5zIZul2m/H2NUlkbopgaOZKp5lP/Vm3pdusHx+AJXGwwwRZTbOdeq+q2erdKjjaHv18p1msTQVTMt/ZjpUzq2TlQLdsVr/DaQbcJgsn6nWDb6/+/R2z7TpmmyNSa/dHecM28z71K2Tz82p5iiY5p5lTnHXcz9FBnH+/qnmrZL1dR2+3DsaG2wwKYDQhaAJGJR2EOIGNW3Pj1oD4A4v+lo0qlFCBQ8TTL0kFRjqAicwN56Lf9ZgKmVQwtNQNrmbWmG2LPJb9p2e1vSrYigV0VbJ0S53aH73Sa+dkFG3mdAM2TQVzOtiKC/oU9fvWN7hbpPb/nfoXHpZeapuAkkHQBIxauqbG1o6YfkwOXSMTa6bql469reqCXyc10aDAYWqDwrjo28Cjbl5NLMhR21aja5VSdAhPLbvtzabPVVIne6VV7bkK33e5QV9c8+eUCs/vA1CKCJqAYmD7MekAqlvXtuhmKm+/HF9tlHmZ/j4B6aECfO93hydwOoA7TWXe5ab/0lA7hA9re4MHgv29h+1fQ9VKTRNQQgiagFHIdH5O0ZepvGG900/oaG9suTt0QMLL2yyVhicoc1/bTFOV2wE82ec7/ZXiO4QHNNztDai8Yrr9CwAyI2gCRqHEjtZJmOakcqmZp8dN6kjou+TcCTbMPk2+DuDx7Hdn2s44Od5ev4kVknR4BPu7plfQIAcghqAJGI2iHaMTO353rde38TdJm71brLxhRdxdZcbJXbJqeavUbVkqye8pC8Z0AFefXpPi7rryaj1mU6xDeMVlOojydtQul4op6h9PrVio22uDopRNaO7wCMtXefpedckG3RTo7dgOAApBEzBKVa0aiN6K7+37Uyu6acs76KW9tV88/YSmNsr0fW4T2xC5HcDTBTI2KHE7hDtBlAqI1Da4faLcWjNn7CYzJ7zttUMzmH2UojlT78fuLeKM5WS+r1YO66EWgoyCDqCklA0q9u9QfO9735MbbrhBLr/8cjsHAABgaO6//3658cYbZfr0/PdBpKYJAAAgAIImAACAAAiaAAAAAiBoAgAACICgCQAAIACCJgAAgAAImgAAAAIgaAIAAAiAoAkAACAAgiYAAIAACJoAAAACIGgCAAAIgKAJAAAggNCDpt///vdy8uRJOwUAADB0Oq546aWX7FR+hR40TZo0SS688EI7BQAAMHTnnXeeXH311XYqv0IPmi6++GL5wx/+YKcAAACGTscUhVIZE3rQdPnll0tPT4+dAgAAGJpXX31VxowZIxdddJGdk1+hB02f+cxn5JVXXqG2CQAADMuzzz4r1113nZ3Kv9CDptNOO01uuukm+cUvfmHnAAAAZEdXvjzxxBNy44032jn5F3rQpH3lK1+R/v5+6erqsnMAAACCa21tlQULFsi4cePsnPzLSdCkLV26VH7605/Kr371KzsHAAAgswcffND0Y7rlllvsnMJQNqjYv0N37Ngx+a//+i+pqqqSOXPm2LkAAACJ+vr65H/+53/k4x//uKl8KTQ5DZq0P/7xj7Jz5045deqUCZ6mTJlixlwAAADQent7TcvUoUOHZP78+QVb0ZLzoMnV3d0tnZ2dcvToUTn99NPl3HPPlbKyMrsUAACUkk996lPywgsvyGuvvSbl5eUyY8YM+cIXviDnnHOOXaPwjFjQ5DUwMCBvvPGGfPjhh3YOAAAoNWPHjjUdvT/ykY/YOYUtL0ETAADAaJOzu+cAAACKCUETAABAAARNAAAAARA0AQAABEDQBAAAEMCI3D33wQcfyHvvvWenkEtnnXWW/Wt4Xn/99dA+C6mNGTNGzjjjDDs1dO+//755Ibf+8pe/yAUXXGCnUEreffddhskZAW+//bacf/75dqrw5DRoevLJJ2X//v3y8ssvy1VXXWX+Re7U1NTI448/bva1/vvTn/60XRLMiRMn5Oc//7kcOXLEXBz0+BnILV2Y0IO66dHyv/SlL2U94OvPfvYzefrpp82I+xdffLEJdpE7Ol2cffbZJm198YtflMsvv9wuQTHSQdJPfvIT8/B5PQCjHpgZufXOO++YwS2nTZtmRgW/5JJL7JLCkLOgacuWLfLmm2/K5z//ebniiisY/XuE6Chdj7qug6frrrvODEcfxIEDB+T++++XuXPnyjXXXGNGbMfI0MHqL3/5S/PMpa9//evmmUuZvPXWWyaNnXnmmVJdXS0VFRV2CXJN73tdsGhvb5fa2lq5+eab7RIUk/7+fpPGJkyYINdff71MnDjRLkGu/d///Z8899xzplC4ZMkSk8cVipwETdu3bzcl6AULFtg5GGk6Wt+2bVughyX/+te/lv/8z/+U22+/XSZNmmTnYqQ99dRT5mK8evVqOye1TZs2mSeA6yAX+aGfq/n9739f6urqTDpDcVm3bp1MnTpVbrjhBjsHI+13v/ud/Pd//7f8/d//vWlBKQShdwT/zW9+Iy+++CIBU57pGghdy/Twww+bACod/URpnfETMOWXrpXVjxPQTaTp6FopXaNIwJRfum+TTjd79+61c1AsHn30UbnwwgsJmPJMN83NmzfPXKMKRehBk65Su/baa+0U8kk381x55ZVy+PBhOyfR73//e/PSTXLIv5kzZ8ozzzxjp5LTaUw/2BL5p7se6Bsmfvvb39o5KAb6Sfu6ewPyT8cTuqlUX6cKQehBk+6Qqju2ojDoY3Hy5Ek7lUgv0x2IURh0/4l0x0vTy4P0e8LI0GlMNyOgeOj+haSxwqGPRaZ8caSEHjTpLlJh3EKNcOhjka7bmr7lnTtCCoe+Y1EP0ZGOPp7c2Vg4dBrjRpfiou+aI40VDn2NKpQ0xuCWAAAAARA0AQAABEDQBAAAEABBEwAAQABFGzT1tywzY954XxsO2oUJ+mXX7eNkWUu/nQ6D85mpvxPxumSD73iNu32X2ospHNyg1tmg3hUec86sD/MTi1t2acw5vuGmB/2Zy2RXYdxUA4TMuYbEp7F0eR5pbCQUYdDknDiTl0+XtoEBGXBf+5okMleddEkuiv0tq6RRNsv6hjCHSiiXhZHNcnguJ1wmzsW3Vg5v6Y4dr4FudUQaZXLSBKuO8dyINO1bKWGOw1zesF42H60NOXguRtmnsa71tRJZ3SYrZ9oZoaiSlfumS+PUcINnIO9MoXCyNE5p8+SJA9K2OiK1KQIj0tjIKLKgSUfm6sSZv1m6B3wX1JkrTaYu62rjT7iTu2TVcpHNkYUqzAnZxIWyYnWrNO7gdEtJZQ6Tl7eqAGhAtsUFrSro3KoCp/lq/zXF1zjlJnPQ1Hfe2SSty7eTQaQ0hDSmjnHtuiZpW5WDR43MXKrOkYhsJNBFsVDXpGWqUFinC5G+NFO1SgdOogonviCGNDZiiitoOrhdGveINN2ZIgCaWSNt6uK8dGLs4HftaJTW+XVSY57FaKtDfc1CXet1taivxsOUBDLXIlUt2Sx16zZS25SU2t+bIiLqArw0aQBULjV3tkl3pMZOKypD2bhOHePZNnMwx8FX8tKZjpoXX+Nhj22m5jcyiPSyTmP2GK+usQFW2GmMQBfFxVyTpElWpGj5qJrdJm0DS6Uimi78acypCU6a//ma95xa/ky1SKQxr6IKmvp79eNC6qQi5cOoq6RKXZzLJ7onY5d0qAtw3bwaewFQF+l5dSJ7eqXXTGvOOqJO415P5t31mL7Yu8FWGhNrpE7XllDblITaz+oCLFMqkl+AlfKZVeZ4ucv7O1tNhlLjBlnqIt2k/jncG7sEO+soR3tjF+aTHdKqL/ZusJWScw6QQSSXdRpL2O85SGPmHCDQRTHol96j6p/5FVLhzEik8kSVK6o0ZqcT0liV1OhnfifJ/1RO6Ulj/dKxV+WU0WArDdJYVFEFTb0v6Uvl9DQZus/JXnUKqXdUxC7Z5dV16pIQkQ635sKs0yRNukr0Mfcy6g+20imXiinqH+8JDIfd/3WXpcweEphjHJehOBlE696O6P7V69StbpK6Pa3SYTOIhGArjfKK6er/3swFrqGkMXU04tYPP42p82G+OgdeioVhCFOnRMrKpOw7nXZaOdEsDWpewwN9doZa6ztqnbKIWhtDl7kgmSBJGquarYqSnvzPrDNfpTFVgG/ttDll4IKkRhpzFWFH8CwkOdmcmqFY5m0utuoiXXOZKh27gY/J5FXGXx3stK7Q740rWWNobCnMl6HEZxDOxXb67Bp1aY/VXJiLfZASlTaxQh3d+FoPDI1TM+ULskJPYxRMcqtamgYHZfDb1XZambRYWtS8ltvG2xlqrW+rdQab1NoYSUnTmKkZigVIptZ2So3UqHQSDXzM9S9YQZI0FlNUQZMJTrKoIXBONj/bfGBPDlNroUq7Vbp0bC/MTiYfoNkA6angRNfpBC+92FKYn80gzHE3F1udETg1UM6F2QmkgpWokE62acypmfIjjQHJOTU62QQnydOYrYE3eatT2NT5nylgrutQOaINpIIWJBFVVEGTU+2froYgvhOq0wyTyMw3mbettdDNd+YCrz/baQcO1myA9JK0vfvFdfS2GUoCZ74OkNxaiwo91625ONghkcAlKqSTbRpzgqxEpDEgmWR9/nzsjS7u0Cip0piZrwMk0wxnW1RMLbou9FCQHKriap5zq/03xd+ZE2Xv/IlmxqmaYdyaix3ei62tudi0ypyAQZvmNFMSSNexr4Q5TWuNst1791uUvSskegxSVRG7NRcdst1zsTUXeHVhXhV3Z0kAyZpt4cgyjaXsHxZqGkvebAuMRm6fv1Sdrp2762LpI1Uacz7nsHTs8NTa2huTWps2ZlmQJI25iqxPkx7bp02a1EV4sv82Sl1jMVffjeMZxNI2D3nvvHLYzHudXj8W7JjIXV2Es2s24GRLa+ZK6d6isoi5/hHZdY3FZOf2ds8gls4xSCyFOQFSRCJq/WjHfltzEbyzoyNpHwFY2aex5DVTYaYxp9k2mxsKgII1caFs26dv8Z+cMESKHpqjdp0617esl4Vu+kiVxmyAFFmnCu3R649T8GxVaSy7pjnSmKsIO4JXyUrPyKnR4efNCNIDMrDVO75MlSxVF2zvnVcuUwOieJsInMg9fl5Gtmp08xKqQVMpb9gmA89vFtGZRPSYqYBJ9ACKA3GDWJY3rFDlI8+dVy5bAxKrldJs81+WJSrTNLRlaRYZSqnJIo2ZAV5VcBS9Ky4mtDRmm19TjWsDjDp6oNgBVThZV+vJE3XA1GRG4Y8bCDhlGrM18Iq30Oimu6ya5khjUUUYNDn0yKne4ef1K9kI0k4NRZLmIXPSJp6c2/zzonTNSOJAfKYqdfWKWKkAydl9G3fM4gJcl9uE428e0jUg+n3xo1Q754H/cSt28Dfz8g+oqJuXyByCCJrGnM6nSQZ4zSKNeZ9zl1AjuUmPnkyQi2LjFE7i05g/L3OkSmOmQKreF5cubboL/kQF0phX0QZNgalMer1uHkrVRyMQfRF2mpLimNGrqWUKW9Uqp3koeT+ozPRjWETXiOhM6Pk6aY0+poXMISdUJt02rMcJdcn2vXWm1lGXvqd7Bx4lyAVCSGNpkMbiEDQp5kGt0iirhjjaaX9Lr9ToB8zG3dmlLsBNjTJ93zZqmUKnHyKpHw6bafj/5HQNSbSUZfu1aebBzVPaUtQkYjhMoOt/Jl1g6ngnrXXUD24+LJufT176BkrJsNLYwQ2y7PZktbmkMT+CJsNp2hnqxbK8YWGSE8r5zOBVoMiKqWIebkLWNYQbpcI+rNlUZefigZdQnKaG4aQHp4muVg5HawL1Z1IoARzDS2P6jjxTm6v7l0b7+ZLG/AiaUJrMWCcdUkOGMGq4/TPWy6oh1lgBSCV684Wn9h2JQg+aBgcH5e2337ZTyLd3331XPvjgAzuVSC9/77337FSJ0LfGN4msH3ZNVfj0sSgrK7NTqf3lL3+xf5UAHeDawTK15CMg549OQ++//76dQjHQaVAfVxQGnb4K5ToVetA0ceJEUxpEYfjjH/8ol1xyiZ1KNGnSJHnttdfsVClwOnvrATUn2/Z7d/TqQvDqq6/KhAkT7FRyOo2V1DHTN2vMa40er1ppK6hm70xpDKPP+PHjpb+/UHIF6PyuUNJY6EHTZz7zGXn22WftVCnRfZgKq6lHn2hHjhyR6dNTV7aWl5ebC9Hhw8mew1eM3KEJPK+knYzz45lnnpFrr73WTiV3zTXXlFwac5vmzKuA+p29/PLL8vrrr8vkyZPtHBSDGTNmyKFDh+xUCZi50tOnN9WNF/mhr2Ef+9jHTCBbCEIPmnTmUVFRIQ8//LCdg3zQ1Zk//vGP5atf/aqcffbZdm5yX/nKV6S1tVVOnTpl5yAfDhw4ICdPnpTa2lo7J7nrr79exowZIz//+c/tHOTDn/70J5PPzZs3z85BsZg7d66p9e3s7LRzkA99fX3m2qSvUYVizP9T7N+h0bVN+gKgS8M6QrzgggvsEuTahx9+KC+88ILs3LlTPvWpT0ldnTMibDoXX3yxfPSjH5Uf/OAHMnbsWLnwwgvljDPOsEuRa7oZQAdA+rh9/etfN2kmkylTpkh7e7scO3ZMzjvvvEDvQTh0X5fnnnvOpLHPf/7zMnv2bLsExeTKK6+UvXv3muDp/PPPl3POOccuQa7pPpsHDx6UBx98UOrr62XmzMJpjy8b1D23c+QXv/iF7N+/30SLl112mZw4ccIuQS7MmjVLfvazn5lg6cYbb8zYzOPX29tr3q+rQ3Xn8TPPPNMuQa7o/awD1qqqKvmrv/orE7Rmo62tzRRQdLOVbmZ944037BLkgs7MTzvtNLn66qtNsKT/RfHSnY8feeQR6erqkrfeesvU8CK33nnnHbOfp02bJjfddJN88pOftEsKQ06DJpfeCSV3h1ae6KY4nakPlw50KVnlnj5WmZpPg9B3rHIHV+69+eabBdO3AiPrz3/+s6nJR24VehobkaAJAABgtAu9IzgAAEAxImgCAAAIgKAJAAAgAIImAACAAAiaAAAAAiBoAgAACICgCQAAIACCJgAAgAAImgAAAAIgaCoZfdJ8a5mUlZVJ5ICaeqBByr5TSE/w7pSI2rbC2iYAAGIImpKKBRjuq+GBPrtslDrRLi2yQ04NnpLKe8tkwuLdsvaWartw+EwQdmuz2nNDdKBd1tyzXwa/PcRtOtEsDWUN0myfCd35ncIIwIa9X3KokLet+DmFBF2ACY0vDSQotDRitiei9oRyIJLduZjlb81OuMcml/tZp+FRf20aZQia/EximyAtC06Jfiyf89ovMxZPGN21IJMWS8uDi2W8+m/xg87vavqcXVYA+ibdMfSAKYnqb6vfGOLnAcUmv2lEFUy/0SINx5uEVDp042/bJA0P3TnE4BBDQdAURyfkJSLNp6TlNu9Tlqul6fgOqb/ru/Enpy4dRWuj4ks1TvNXc1yNVbREkLQUpEs33nm2ucp9eQM2/X5VKmvWJRjPMlOiib7HluBc5ju9y/3f76tdyxggerevQe47ZmdH+T4vQyly/In74tbRv6Xhgea4feAv+Xl/b8PWHjvX4S/dmeMR/axk+z72Wf7fnna/JsiwXzIch/TbGc/ZR52e/ZzhmKpXulJp/O9Ur+h+cD7H/17n+/U8/Zsj0uxuu3sc49KHfsXvu+D7VX+++m0HPPvOfz6l3a8pti9jmvBLd06n2sb48yHh8x/17CP/b0r7fQ7vPvSnAS3dcrPMHuO0+ZUV91k2bcbSpPd3qlem/OPAfbJk2jdl8ST9t9oH1WtEdi6RCZ7zwPt9qT6zZ6snvaT9zuzyI7/4dJl4rmZaHuNuh7OOeV/CeRTbr85x6YzbF/H5oCoEf2OGLPlGdr8HwzCImOM7BuulfnDHcTudTufaQfGu65s+1VyvpmVwbaczHb/81OCORTJY33zKLDL08kU71BJt/+Ba73v965vtjH+/+b7o+33Tdn3/58XWt9P37DdTidN+zvb5t8f/ed7t239Pus9T4n6/XT9hf65V3+wwy/3b71k/7vvMvo+9N346/b5Ou18TZNgvmY5D2u1M5Oyj9OeYd587+9C3T+13x+9PxXxW7LMTf7f+re5nOb877vjGbYsWv85Q9mvK45/x/E6yfRnf4xd/Xmhx55j7Hf7vTHVOZvpNGb8v+foJ35dpufd4ePeH7/g5y33bGl3fv62J2x7PWR7b94r+Ps++j992xXc+pspzovvHLHe3P3F7vL89kXNs3O/y//Zsp2Pf5dtGxazr/Z1Jv9uz7QnnrabfEztWyC2CJi+TMGMne2rJM4WETChTYvBlEu7nmWX+BG0Si922uAzBkfh96cWtn+x3J/mOqCTrJ3xewrZkSNi+9yRkanHbE78vDd/2+jOqVBl4pn2d1X7NtF+SyHgc0kjYRxl+q38fpd823z72nw9xxyvJ8UgiffpIJ/Px9ov//GDbl3abMp7Tid+RcHwy7TPvbxrC98Xvk0zL47cv8bd73++cV4mfFb885XmXwPs7rKS/18v3e5Idf/0ZbvrJal/6eb/L972G9/dmWq7WsPvZ/OvbjvT7Pdny2OfFZLv/MRw0zw1Jj/TsFJlR6W3CE6m8QmUjAY3/QoPU72yRdlNd3yntd9VLwxecz+s5tlvkrlnR6ljzunSJqLkpjb/tm7LWVG/r9VM1M8Sq0HVHcFdfzyGRRZVSaaeNSZUyw/7pl2z98ZWxtc3y6La4r1myxi4fthM9ckjqpVJX7btSbm/yY+XKtK+D7VdHpv0Sk/w4yOfukB2L1sgsuyxIR9T6K+K+TSqniew+lqQZRn9mhnNIizUz+I7XpDnSsGi3tDzhNAJ0PrpG6hfMUd+YgacJbNZddp6SzX51JDveu6Un7n0p9mtawd4z1HM6/vj4pf5NGb8vUxrIKo1kotNQus/STURrZbfu96m3M1PTl9m2GfGfl0LK89HwfYbapnr1yfHnxNCPnZFsP9p0ZmRa7lJ5jD7/A6UZv2mVce8x15kjPZ59nDzdIzcImrxSJLqc8F6E9J1jixpkjjfh6TvJoh3R3Ve6TpPV0mTWOaUuvLtlyaU6Y3Db1t0Lwyw51Ox0cFclGLMkZxbpO/X829/i9GEoNGn3dbr9mq1MxyHWSV+VJmVNtV43SECRnBsszTpij4Xul2eX+bkXpwmLZ4gqw6pt2C+qxOsxXuYsqJfdD7WrzDo+yE/KDZZUoDajM/abYkZyvyYzhPeM9Dk9mtLQ55qc7dPnmBugpOpjpAKNoMF76vMxS/nel/r71b6RxbnptJ1NgR3DQ9Dk5StNx3MyWaf0XymVi0QO9cSvZ2otAotdhJp9pfbEkkQ23AuvzmTWSLveXhOUOZlGfAd3h6kN2alKk3baMCWo5JKtb0pzVtLPC5Mp5fpqGVJub/Jj5Qq+r5PsV59M+yXTcfAydzbZgCL5+eiIL132Sc8Rt3bDCWx2HFefY+6aTKdP2h/aLWtNcJM6MI/Wjj6QJMj36XuiRXbbYDT9XZqZ96sj2fG2Jfws9mtUlu/JzTmd+jdl/L5MaSCrNJKJTkMBP0vfpav26WCnCnHuak8eBJvCaTrBzkeVqhO2aXeSGqxhHbtk+9GmMyPTcpeuLVL75pv3qAJCtp22ffmTuc74ap+yu/ZgOAia4qgM/F5dGpjgu3NEB0yzTCZ7h7kAqPVMdbSn1HAgIrP0Rer24DfQOhehJbLkrvjmI7fp4k7PNpiSV5pq74Tl+qKgLkNz3AuWN9NQ25q0WShaMuwzdxHuvsfe3eJn1/+uu30nmuXOtJ+nmDuphlqT4FctdzTXy5p73d9rt9f87eceq/ti321qQZwanEz7OuN+9cq0X7R0x8G/j/TYWjsz1Oh47+jUdyTtXCvfjAYB3sxcncMZmudigaW+wydJ84UtVCxZrJb4Mu2kPJm93o/e5rms9qsVO97q12z1nZ/p9msq2bwnR+d0wjns/qaM35cpDWSTRjJxCnhrqmO/1ex/+7f57Fvj77bTzbdyz5zkAY8JNDLX6Gc8H9UWLNka3SKJVKvCZ/Mdid85rGNn96Pnt/c9cKcnnWVaHq/626pw4MlvnIDO7aah3/vdxN+p1r/PLUyoPOW7CdcZb2EJOadKgkjgdMbTu8d9Je1kZzoeuuvEdypM7MCXusNg0s6/tqNl9PO9n5WsE2T0s9xX/HLTedD7WWbbvev43h/X0TAZ7z5aO7gjxe+Nfl6mDs6+zpoJnR2T/Gbvb1rbHL/c/35zPDzbE3cc0u3rDPs1Ufr9kuk4xC1Xr/jzJZ7zG9d6vs+3bQnnp7Nt7rkcd4769sHaTvu7feeBux/jtyvduW1f6nOc97rnQTb71X6++q3R9eOOUab9mmz7Mr0nGe+x1S/vOZ34Hfrz4/KNuHNcr6++qzn1b0r/fQ7vb/CnAS3dcrPMHt8g+ZX3s+rVZ8V1pE6bhvycY5/sHIru/0zno1lu05e7nvdcNcu9+yLzvoxJ/O3x+Ufie9Mt9+5nI02ar2/eH7dvnOOi0rgnrcTvN01vr/e3IpfK9P/UgQAwyug+S7NkGKOojxpOTa90FtaArKVNH5PvSuXxIfYL0jU991bKqYxNx6VN18hOeKgh/X7S+/LROQzmO0JongMApJHY/GaakTL0a0tLN5lJrFkKQ6WOzb2HsuoWguEhaAIApBHr6+nesp+x9iMj/ZkN0nJpkH5FSEX3n2pZsGnk7gKE0DwHAAAQADVNAAAAARA0AQAABEDQBAAAEABBEwAAQAAETQAAAAEQNAEAAARA0AQAABAAQRMAAEAABE0AAAABEDQBAAAEQNAEAAAQAEETAABAAARNAAAAARA0AQAABEDQBAAAEABBEwAAQAAETQAAAAEQNAEAAARA0AQAABAAQRMAAEAABE1K3wMNUlbWIM0n7AztQETNK5OGB/rsDK1TIgnzMPKc41D2nU47rfVJ861qXllELY1xjm38POSC3f+3Nqu/Yjq/o49JsrTlmwcgA/K9QkDQpIz/QoPUy27p8WTinY+uMf/uPtZj/jUOtMsatWbDF8bbGciPaplzj/rnSE/sAn2iXVp26j8OeY5jn7Q/tFvknjnqHcit8TJnQb3Izh6JpZhOab9L/5skbS1qkDmT7AwAAZDvFQKCJm3SHGlYJLLmUTcu75OeIyJr71krcld7NFonsy8c1beoY7OzRdrdjOJEj+xetFbWLtotLU/YLMVmKGtvIesYCU7hY420H7Az1DE5JOqYqIw+lracQKp+wRwVZgHIBvle/hE0GbaU7AZI5qSrl8pbKtVFwI3gnUCKzL5AfG6OuhzHMgoT0E6bI3OmeWoHdYai1przOWcSOeYrfPQ90aIy9EqZc4VKW27p2ARS1NYCQ0K+l3cETZZTSrYBkoneG9RJpy8C9gS1gRSZfaFwqqqdjMLWDKqSlSmJ2eDXZChUUY8gW/iwAVLPsd2mkFGt05YtHTuBFLW1wNCQ7+UbQZNrUqXMsBG8E71XqkvAeKm0ETyZfeGp1DUYOqNwawb1sVHH0Ql+nWYgqqhH1vjKGbb5wNn/MypVIcOmrZ4TTl8LamuBoSPfy6+yQcX+XfL0nT6zdB+Mu1TQ1DkoTbp6U9/pU31I6hftFllwSlpuI7svGCeapeHSFpmh+8wcaZBTDy5WF2N9N8kEaVFZyO6dM2T/YBMlrhGl7/CZpUq6a2WNyrzd/W/S1pF6qd8p0nC8RRZT+ACGhnwvv3TQBKtzrQ4g1at+cMdxO+/4jkEV18fPQ4E4NbhjkT426nXPfjtvcHD/PYnzMHKi+3/RDnWEHKea6xPmARgK8r18onnOy3SyU7zNcLZzK3fNFSLbh0bxVkeb9n2FKur8cPe/txnO6TPIjRSjU5LxgXRth2/MOmdMLsYGyj3yvXyieW6YdEbRfottykMBc6qvl5gxTVTG4ja/Iq/0IHwTFu82f9c30/wNoLBR0zRkzkiss+6ykyhofQ/cKS0LTunmaPXar4pllIjzr1Pue6hBTtljMmPxfRwTAAWNoGmoDrSL3Dso+++x0yho429r8dRiVEqlbnJFnlVLk+nECiAnDkSk4Vb9SBXddMojwMJA0DRUn1vMHUCjktNM1/MN7i4pFM5zsmbJoeY7OCZAyHaLrc09vkPkoXaVA2I4CJpQQnSH1jtNDSH9mQqHrgXUzaab5E6JuI9gARCK6M0XZrw0DBdBE0qDudunXeYMMkZQwdDH5NbmaMlXjyAOAIWMoAkloXPrEtkta2SWbdvn1ugCMGmxbFrQIhPsMZkl+6kBBFDQGHIAAAAgAGqaAAAAAiBoAgAACICgCQAAIACCJgAAgAAImgAAAAIgaAIAAAiAoAkAACAAgiYAAIAACJoAAAACIGgCAAAIgKAJAAAgAIImAACAjET+P61l5diZZ8DwAAAAAElFTkSuQmCC)\n",
        "\n",
        "Na camada de auto-atenção, deve-se implementar (vide slide 41):\n",
        "- Embeddings de posição\n",
        "- Projeções lineares (WQ, WK, WV, WO)\n",
        "- Camada de feed forward (2-layer MLP)\n",
        "\n",
        "\n",
        "\n",
        "Instrucões:\n",
        "- É necessário fazer duas implementações da camada de auto-atenção: uma usando laços (ineficiente, mas fácil de entender) e outra matricial (eficiente mas difícil de entender). Usar slide 41 como referência.\n",
        "\n",
        "- Fazer um assert para garantir que o resultado das duas implementações é exatamente igual.\n",
        "\n",
        "- No treinamento, usar apenas a implementação matricial."
      ]
    },
    {
      "cell_type": "markdown",
      "metadata": {
        "id": "bYbkEzdD37sZ"
      },
      "source": [
        "## Faz download e carrega o dataset"
      ]
    },
    {
      "cell_type": "code",
      "source": [
        "!git clone https://github.com/ethelbeluzzi/projetomachado"
      ],
      "metadata": {
        "id": "qP6lAMiNkGou",
        "colab": {
          "base_uri": "https://localhost:8080/"
        },
        "outputId": "cff26be1-c90f-4599-8c9a-7bd39bffe2bc"
      },
      "execution_count": null,
      "outputs": [
        {
          "output_type": "stream",
          "name": "stdout",
          "text": [
            "Cloning into 'projetomachado'...\n",
            "remote: Enumerating objects: 65, done.\u001b[K\n",
            "remote: Counting objects: 100% (65/65), done.\u001b[K\n",
            "remote: Compressing objects: 100% (61/61), done.\u001b[K\n",
            "remote: Total 65 (delta 24), reused 0 (delta 0), pack-reused 0 (from 0)\u001b[K\n",
            "Receiving objects: 100% (65/65), 7.21 MiB | 3.44 MiB/s, done.\n",
            "Resolving deltas: 100% (24/24), done.\n"
          ]
        }
      ]
    },
    {
      "cell_type": "code",
      "source": [
        "import os\n",
        "# >>> Análise varia dependendo do formato que os dados são fornecidos <<<\n",
        "\n",
        "DATA_PATH = os.path.join(\"projetomachado\", \"textonormalizado1000.txt\")\n",
        "\n",
        "# Abrir arquito textual e ler os dados originais\n",
        "with open(DATA_PATH, \"r\") as data_file:\n",
        "    data_text = data_file.read()\n",
        "\n",
        "# Número total de caracteres no dataset\n",
        "len(data_text)"
      ],
      "metadata": {
        "id": "skzZnQbkkeeC",
        "colab": {
          "base_uri": "https://localhost:8080/"
        },
        "outputId": "3cc73c71-3eba-4ec7-93de-3cea4c83dfcf"
      },
      "execution_count": null,
      "outputs": [
        {
          "output_type": "execute_result",
          "data": {
            "text/plain": [
              "18845445"
            ]
          },
          "metadata": {},
          "execution_count": 3
        }
      ]
    },
    {
      "cell_type": "code",
      "source": [
        "# Dados já foram separados em linhas\n",
        "# Checar tamanho das linhas em caracteres, por curiosidade\n",
        "lines = []\n",
        "line_lens = []\n",
        "\n",
        "with open(DATA_PATH, \"r\") as data_file:\n",
        "    for line in data_file:\n",
        "        lines.append(line)\n",
        "        line_lens.append(len(line))\n"
      ],
      "metadata": {
        "id": "oY3HPglrkvqf"
      },
      "execution_count": null,
      "outputs": []
    },
    {
      "cell_type": "code",
      "source": [
        "lines[0]"
      ],
      "metadata": {
        "id": "Jhyivon7brk-",
        "colab": {
          "base_uri": "https://localhost:8080/",
          "height": 35
        },
        "outputId": "dd4f8134-4549-4e09-a824-36e5ef7fa514"
      },
      "execution_count": null,
      "outputs": [
        {
          "output_type": "execute_result",
          "data": {
            "text/plain": [
              "'1\\n'"
            ],
            "application/vnd.google.colaboratory.intrinsic+json": {
              "type": "string"
            }
          },
          "metadata": {},
          "execution_count": 5
        }
      ]
    },
    {
      "cell_type": "code",
      "source": [
        "# Limpar linhas, removendo \\n, espaços antes e depois\n",
        "with open(DATA_PATH, \"r\") as data_file:\n",
        "    cleaned_lines = [line.strip().lower() for line in data_file]\n",
        "\n",
        "len(cleaned_lines)"
      ],
      "metadata": {
        "id": "6MGoKUTFk0sK",
        "colab": {
          "base_uri": "https://localhost:8080/"
        },
        "outputId": "1b8755d7-0650-4272-8423-170f142781d6"
      },
      "execution_count": null,
      "outputs": [
        {
          "output_type": "execute_result",
          "data": {
            "text/plain": [
              "306409"
            ]
          },
          "metadata": {},
          "execution_count": 6
        }
      ]
    },
    {
      "cell_type": "code",
      "source": [
        "# Quantidade total de caracteres após limpeza\n",
        "acum_chars = 0\n",
        "for cleaned_line in cleaned_lines:\n",
        "    acum_chars += len(cleaned_line)\n",
        "\n",
        "acum_chars\n",
        "\n",
        "# Possível fazer de forma mais \"Pythônica\"?"
      ],
      "metadata": {
        "id": "y478C1fk44GX",
        "colab": {
          "base_uri": "https://localhost:8080/"
        },
        "outputId": "043b059d-2f54-48b0-e3fa-514fd6be6fd6"
      },
      "execution_count": null,
      "outputs": [
        {
          "output_type": "execute_result",
          "data": {
            "text/plain": [
              "18539036"
            ]
          },
          "metadata": {},
          "execution_count": 7
        }
      ]
    },
    {
      "cell_type": "code",
      "source": [
        "####\n",
        "sum([len(cleaned_line) for cleaned_line in cleaned_lines])\n",
        "\n",
        "\n",
        "# Qual melhor forma?\n",
        "\n"
      ],
      "metadata": {
        "id": "yLaexBQI5pNn",
        "colab": {
          "base_uri": "https://localhost:8080/"
        },
        "outputId": "4129c351-c9a9-45d1-d421-29ba5769c440"
      },
      "execution_count": null,
      "outputs": [
        {
          "output_type": "execute_result",
          "data": {
            "text/plain": [
              "18539036"
            ]
          },
          "metadata": {},
          "execution_count": 8
        }
      ]
    },
    {
      "cell_type": "code",
      "source": [
        "# É possível voltar a um texto monolítico juntando as linhas. Nota-se que estamos adicionando espaços, mas não há mais \\n\n",
        "full_data = ' '.join(cleaned_lines)\n",
        "len(full_data)"
      ],
      "metadata": {
        "id": "MyoFd6whtt2Q",
        "colab": {
          "base_uri": "https://localhost:8080/"
        },
        "outputId": "782f766d-7959-451f-edc7-b84e6c016ffb"
      },
      "execution_count": null,
      "outputs": [
        {
          "output_type": "execute_result",
          "data": {
            "text/plain": [
              "18845444"
            ]
          },
          "metadata": {},
          "execution_count": 9
        }
      ]
    },
    {
      "cell_type": "code",
      "source": [
        "full_data[:1000]"
      ],
      "metadata": {
        "id": "sfDqi_cjc9N0",
        "colab": {
          "base_uri": "https://localhost:8080/",
          "height": 174
        },
        "outputId": "58b17b38-45ce-49db-ac86-58dae5cb401d"
      },
      "execution_count": null,
      "outputs": [
        {
          "output_type": "execute_result",
          "data": {
            "text/plain": [
              "'1 ministério da cultura fundação biblioteca nacional departamento nacional do livro a mão e a luva machado de assis i o fim da carta mas que pretendes fazer agora? morrer. morrer? que idéia! deixate disso, estêvão. não se morre por tão pouco... morrese. quem não padece estas dores não as pode avaliar. o golpe foi profundo, e o meu coração é pusilânime; por mais aborrecível que pareça a idéia da morte, pior, muito pior do que ela, é a de viver. ah! tu não sabes o que isto é? sei: um namoro gorado... luís! ... e se em cada caso de namoro gorado morresse um homem, tinha já diminuído muito o gênero humano, e malthus perderia o latim. anda, sobe. estêvão meteu a mão nos cabelos com um gesto de angústia; luís alves sacudiu a cabeça e sorriu. achavamse os dois no corredor da casa de luís alves, à rua da constituição,  que então se chamava dos ciganos;  então, isto é, em 1853, uma bagatela de vinte anos que lá vão, levando talvez consigo as ilusões do leitor, e deixandolhe em troca usurários! '"
            ],
            "application/vnd.google.colaboratory.intrinsic+json": {
              "type": "string"
            }
          },
          "metadata": {},
          "execution_count": 10
        }
      ]
    },
    {
      "cell_type": "code",
      "source": [
        "# Separar em treino e teste\n",
        "limit = int(0.8*len(cleaned_lines))\n",
        "train_cleaned_lines = cleaned_lines[:limit]\n",
        "val_cleaned_lines = cleaned_lines[limit:]\n",
        "\n",
        "# Não utilize o split val para nada a partir daqui, somente validar"
      ],
      "metadata": {
        "id": "eQHK1Hgtd-2P"
      },
      "execution_count": null,
      "outputs": []
    },
    {
      "cell_type": "code",
      "source": [
        "from collections import Counter\n",
        "import re\n",
        "# Contar número de palavras ÚNICAS\n",
        "def count_words(texts):\n",
        "    # Counter: collection especifica do Python para contar ocorrências de um objeto\n",
        "    word_counts = Counter()\n",
        "    for text in texts:\n",
        "        word_counts.update(re.findall(r'\\w+', text.lower()))\n",
        "        #### Separado com regex, \\w+: sequências alfanuméricas\n",
        "\n",
        "\n",
        "    return word_counts\n",
        "\n",
        "word_counts = count_words(train_cleaned_lines)\n"
      ],
      "metadata": {
        "id": "Yc2eOhQ9Objj"
      },
      "execution_count": null,
      "outputs": []
    },
    {
      "cell_type": "markdown",
      "metadata": {
        "id": "EyGVDL9KzJ_I"
      },
      "source": [
        "## Criando um vocabulário"
      ]
    },
    {
      "cell_type": "code",
      "execution_count": null,
      "metadata": {
        "id": "FiP7OCo9zJ_I"
      },
      "outputs": [],
      "source": [
        "vocab_size = 10000\n",
        "most_frequent_words = [word for word, count in word_counts.most_common(vocab_size)]\n",
        "vocab = {word: i for i, word in enumerate(most_frequent_words, 1)}"
      ]
    },
    {
      "cell_type": "markdown",
      "metadata": {
        "id": "wia_ygbvzJ_J"
      },
      "source": [
        "## Classe do dataset"
      ]
    },
    {
      "cell_type": "code",
      "source": [
        "context_size = 5 # 5 palavras de entrada. O target é a próxima palavra\n",
        "\"\"\"TODO: Preparar o dataset\"\"\""
      ],
      "metadata": {
        "id": "Iy-elI1magRR"
      },
      "execution_count": null,
      "outputs": []
    },
    {
      "cell_type": "code",
      "source": [
        "\"\"\"TODO: divida o dataset em validação/treino com um proporção de 20/80 %. OBS, use random_state=18\"\"\""
      ],
      "metadata": {
        "id": "y1aetOpmDeQd"
      },
      "execution_count": null,
      "outputs": []
    },
    {
      "cell_type": "code",
      "execution_count": null,
      "metadata": {
        "colab": {
          "base_uri": "https://localhost:8080/"
        },
        "id": "aD1CVci2zJ_J",
        "outputId": "5bf0839e-f30e-4ff2-ed6f-4f3fda782b7c"
      },
      "outputs": [
        {
          "output_type": "execute_result",
          "data": {
            "text/plain": [
              "95377"
            ]
          },
          "metadata": {},
          "execution_count": 7
        }
      ],
      "source": [
        "\"\"\"TODO: implemente a classe do dataset\"\"\"\n",
        "\n",
        "train_data = MyDataset(...)\n",
        "val_data = MyDataset"
      ]
    },
    {
      "cell_type": "code",
      "execution_count": null,
      "metadata": {
        "id": "gC0C5qn2zJ_J"
      },
      "outputs": [],
      "source": [
        "batch_size = 32\n",
        "train_loader = DataLoader(train_data, batch_size=batch_size, shuffle=True)\n",
        "val_loader = DataLoader(val_data, batch_size=batch_size, shuffle=True)\n",
        "sample = next(iter(train_loader))"
      ]
    },
    {
      "cell_type": "markdown",
      "metadata": {
        "id": "-5_-Yud0zJ_K"
      },
      "source": [
        "## Model"
      ]
    },
    {
      "cell_type": "code",
      "execution_count": null,
      "metadata": {
        "id": "I2qKG9YczJ_K"
      },
      "outputs": [],
      "source": [
        "import torch.nn as nn\n",
        "\n",
        "class LanguageModel(torch.nn.Module):\n",
        "    \"\"\"TODO: implementar o modelo de linguagem\"\"\"\n",
        "    def __init__(self):\n",
        "      pass\n",
        "      \"\"\"TODO: iniciliazar Wq,Wk,Wv aqui\n",
        "      Ex: self.wq = nn.Linear(...)\n",
        "      \"\"\"\n",
        "\n",
        "    \"\"\"TODO: attention versão loop\"\"\"\n",
        "\n",
        "    \"\"\"TODO: attention versão matricial\"\"\"\n",
        "\n",
        "    def forward(self, version=\"loop\"): # interessante ter uma flag para indicar qual a versão usada (loop ou matricial)\n",
        "      \"\"\"TODO\"\"\"\n"
      ]
    },
    {
      "cell_type": "code",
      "execution_count": null,
      "metadata": {
        "id": "7yjQ1KXOzJ_K"
      },
      "outputs": [],
      "source": [
        "model = ..."
      ]
    },
    {
      "cell_type": "code",
      "execution_count": null,
      "metadata": {
        "id": "xmsD59TfzJ_K"
      },
      "outputs": [],
      "source": [
        "# sample = next(iter(train_loader))\n",
        "input = sample[0]\n",
        "target = sample[1]"
      ]
    },
    {
      "cell_type": "code",
      "execution_count": null,
      "metadata": {
        "id": "HGbJcT5KzJ_K"
      },
      "outputs": [],
      "source": [
        "output1 = model(input,version=\"loop\")\n",
        "output2 = model(input,version=\"matrix\")\n",
        "are_equal = torch.allclose(output1, output2, atol=1e-6)  # Verifica se os resultados são próximos\n",
        "are_equal"
      ]
    },
    {
      "cell_type": "code",
      "execution_count": null,
      "metadata": {
        "colab": {
          "base_uri": "https://localhost:8080/"
        },
        "id": "um0lR4mNzJ_K",
        "outputId": "e6041da8-ca7f-4c9d-b28b-9e1250e820f2"
      },
      "outputs": [
        {
          "output_type": "execute_result",
          "data": {
            "text/plain": [
              "tensor([4842, 2163, 7516, 2652, 6373, 7429, 8003, 3759, 1768, 7740, 2595, 1859,\n",
              "        3189, 8049, 5727, 6132])"
            ]
          },
          "metadata": {},
          "execution_count": 13
        }
      ],
      "source": [
        "output.argmax(dim=1)"
      ]
    },
    {
      "cell_type": "code",
      "execution_count": null,
      "metadata": {
        "colab": {
          "base_uri": "https://localhost:8080/"
        },
        "id": "la-b-f8jzJ_L",
        "outputId": "f040cef4-e409-4d20-d335-a3133aaeb63c"
      },
      "outputs": [
        {
          "output_type": "execute_result",
          "data": {
            "text/plain": [
              "tensor([   2,    3,    4,   37,    3,  215,   71,  411, 1263,  355,   87, 3653,\n",
              "         584,  980,    1,    7])"
            ]
          },
          "metadata": {},
          "execution_count": 14
        }
      ],
      "source": [
        "target"
      ]
    },
    {
      "cell_type": "markdown",
      "metadata": {
        "id": "UngUhyu7zJ_L"
      },
      "source": [
        "## Training"
      ]
    },
    {
      "cell_type": "code",
      "execution_count": null,
      "metadata": {
        "colab": {
          "base_uri": "https://localhost:8080/"
        },
        "id": "wntaV50nzJ_L",
        "outputId": "a054092b-d801-4c60-eb75-85abfe57151d"
      },
      "outputs": [
        {
          "output_type": "execute_result",
          "data": {
            "text/plain": [
              "device(type='cuda')"
            ]
          },
          "metadata": {},
          "execution_count": 15
        }
      ],
      "source": [
        "# Verifica se há uma GPU disponível e define o dispositivo para GPU se possível, caso contrário, usa a CPU\n",
        "device = torch.device('cuda' if torch.cuda.is_available() else 'cpu')\n",
        "device"
      ]
    },
    {
      "cell_type": "code",
      "execution_count": null,
      "metadata": {
        "id": "vRwSPiwizJ_L"
      },
      "outputs": [],
      "source": [
        "epochs = 10\n",
        "lr = \"\"\"TODO: experimento\"\"\"\"\n",
        "criterion = \"\"\"TODO CrossEntropy\"\"\"\"\n",
        "\n",
        "optimizer = \"\"\"TODO: AdamW ou outro\"\"\"\"\n",
        "\n",
        "model.to(device)\n",
        "\n",
        "\"\"\"TODO: Implemente o loop de treinamento. Em cada época, calcule e imprima a loss no dataset de validação\"\"\"\""
      ]
    },
    {
      "cell_type": "markdown",
      "source": [
        "## Avaliação"
      ],
      "metadata": {
        "id": "PSXfwYISDoPN"
      }
    },
    {
      "cell_type": "code",
      "source": [
        "\"\"\" TODO: calcule a perplexidade final no dataset de validação \"\"\""
      ],
      "metadata": {
        "id": "nXXO78GSDqPg"
      },
      "execution_count": null,
      "outputs": []
    },
    {
      "cell_type": "markdown",
      "metadata": {
        "id": "A1zhxVqfzJ_M"
      },
      "source": [
        "## Exemplo de uso"
      ]
    },
    {
      "cell_type": "code",
      "execution_count": null,
      "metadata": {
        "id": "3PExkoWOzJ_M"
      },
      "outputs": [],
      "source": [
        "text = \"\"\n",
        "\n",
        "def generate_text(model, vocab, text, max_length):\n",
        "    \"\"\"TODO: implemente a função para gerar texto até atingir o max_length\"\"\"\n",
        "\n",
        "context = 5\n",
        "max_length= 10\n",
        "generate_text(text, max_length)"
      ]
    }
  ],
  "metadata": {
    "colab": {
      "provenance": [],
      "gpuType": "T4"
    },
    "kernelspec": {
      "display_name": "Python 3",
      "name": "python3"
    },
    "language_info": {
      "codemirror_mode": {
        "name": "ipython",
        "version": 3
      },
      "file_extension": ".py",
      "mimetype": "text/x-python",
      "name": "python",
      "nbconvert_exporter": "python",
      "pygments_lexer": "ipython3",
      "version": "3.10.12"
    },
    "accelerator": "GPU"
  },
  "nbformat": 4,
  "nbformat_minor": 0
}